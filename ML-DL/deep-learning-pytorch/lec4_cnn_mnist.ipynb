{
  "nbformat": 4,
  "nbformat_minor": 0,
  "metadata": {
    "colab": {
      "name": "lec4-cnn-mnist",
      "provenance": [],
      "collapsed_sections": [],
      "mount_file_id": "1Dv8zZ_GfoAgTxi4T-r6Gi2ITia4ugHmY",
      "authorship_tag": "ABX9TyPBOC3Wr72LDCzrnQbOY8Xc",
      "include_colab_link": true
    },
    "kernelspec": {
      "name": "python3",
      "display_name": "Python 3"
    },
    "widgets": {
      "application/vnd.jupyter.widget-state+json": {
        "26b82e3abe504edb97680a2a1dbb696f": {
          "model_module": "@jupyter-widgets/controls",
          "model_name": "HBoxModel",
          "state": {
            "_view_name": "HBoxView",
            "_dom_classes": [],
            "_model_name": "HBoxModel",
            "_view_module": "@jupyter-widgets/controls",
            "_model_module_version": "1.5.0",
            "_view_count": null,
            "_view_module_version": "1.5.0",
            "box_style": "",
            "layout": "IPY_MODEL_164513d693e345d1bc197d05f2f550a8",
            "_model_module": "@jupyter-widgets/controls",
            "children": [
              "IPY_MODEL_603e2e68ab7045c9bd5bfe0a412cf5be",
              "IPY_MODEL_0f51c1b941f14121972dbfcb7d30dc49"
            ]
          }
        },
        "164513d693e345d1bc197d05f2f550a8": {
          "model_module": "@jupyter-widgets/base",
          "model_name": "LayoutModel",
          "state": {
            "_view_name": "LayoutView",
            "grid_template_rows": null,
            "right": null,
            "justify_content": null,
            "_view_module": "@jupyter-widgets/base",
            "overflow": null,
            "_model_module_version": "1.2.0",
            "_view_count": null,
            "flex_flow": null,
            "width": null,
            "min_width": null,
            "border": null,
            "align_items": null,
            "bottom": null,
            "_model_module": "@jupyter-widgets/base",
            "top": null,
            "grid_column": null,
            "overflow_y": null,
            "overflow_x": null,
            "grid_auto_flow": null,
            "grid_area": null,
            "grid_template_columns": null,
            "flex": null,
            "_model_name": "LayoutModel",
            "justify_items": null,
            "grid_row": null,
            "max_height": null,
            "align_content": null,
            "visibility": null,
            "align_self": null,
            "height": null,
            "min_height": null,
            "padding": null,
            "grid_auto_rows": null,
            "grid_gap": null,
            "max_width": null,
            "order": null,
            "_view_module_version": "1.2.0",
            "grid_template_areas": null,
            "object_position": null,
            "object_fit": null,
            "grid_auto_columns": null,
            "margin": null,
            "display": null,
            "left": null
          }
        },
        "603e2e68ab7045c9bd5bfe0a412cf5be": {
          "model_module": "@jupyter-widgets/controls",
          "model_name": "IntProgressModel",
          "state": {
            "_view_name": "ProgressView",
            "style": "IPY_MODEL_bfa6dd6ad5d1431ebecc15dc50bf52a3",
            "_dom_classes": [],
            "description": "",
            "_model_name": "IntProgressModel",
            "bar_style": "info",
            "max": 1,
            "_view_module": "@jupyter-widgets/controls",
            "_model_module_version": "1.5.0",
            "value": 1,
            "_view_count": null,
            "_view_module_version": "1.5.0",
            "orientation": "horizontal",
            "min": 0,
            "description_tooltip": null,
            "_model_module": "@jupyter-widgets/controls",
            "layout": "IPY_MODEL_8bbf86d03a6546a9bfdba9b8170f3211"
          }
        },
        "0f51c1b941f14121972dbfcb7d30dc49": {
          "model_module": "@jupyter-widgets/controls",
          "model_name": "HTMLModel",
          "state": {
            "_view_name": "HTMLView",
            "style": "IPY_MODEL_ea1878d69e3a45909dde3ce39d8aa835",
            "_dom_classes": [],
            "description": "",
            "_model_name": "HTMLModel",
            "placeholder": "​",
            "_view_module": "@jupyter-widgets/controls",
            "_model_module_version": "1.5.0",
            "value": " 9920512/? [00:20&lt;00:00, 8066526.99it/s]",
            "_view_count": null,
            "_view_module_version": "1.5.0",
            "description_tooltip": null,
            "_model_module": "@jupyter-widgets/controls",
            "layout": "IPY_MODEL_cca85a69ae424b06aa3e65c3bb34e6c0"
          }
        },
        "bfa6dd6ad5d1431ebecc15dc50bf52a3": {
          "model_module": "@jupyter-widgets/controls",
          "model_name": "ProgressStyleModel",
          "state": {
            "_view_name": "StyleView",
            "_model_name": "ProgressStyleModel",
            "description_width": "initial",
            "_view_module": "@jupyter-widgets/base",
            "_model_module_version": "1.5.0",
            "_view_count": null,
            "_view_module_version": "1.2.0",
            "bar_color": null,
            "_model_module": "@jupyter-widgets/controls"
          }
        },
        "8bbf86d03a6546a9bfdba9b8170f3211": {
          "model_module": "@jupyter-widgets/base",
          "model_name": "LayoutModel",
          "state": {
            "_view_name": "LayoutView",
            "grid_template_rows": null,
            "right": null,
            "justify_content": null,
            "_view_module": "@jupyter-widgets/base",
            "overflow": null,
            "_model_module_version": "1.2.0",
            "_view_count": null,
            "flex_flow": null,
            "width": null,
            "min_width": null,
            "border": null,
            "align_items": null,
            "bottom": null,
            "_model_module": "@jupyter-widgets/base",
            "top": null,
            "grid_column": null,
            "overflow_y": null,
            "overflow_x": null,
            "grid_auto_flow": null,
            "grid_area": null,
            "grid_template_columns": null,
            "flex": null,
            "_model_name": "LayoutModel",
            "justify_items": null,
            "grid_row": null,
            "max_height": null,
            "align_content": null,
            "visibility": null,
            "align_self": null,
            "height": null,
            "min_height": null,
            "padding": null,
            "grid_auto_rows": null,
            "grid_gap": null,
            "max_width": null,
            "order": null,
            "_view_module_version": "1.2.0",
            "grid_template_areas": null,
            "object_position": null,
            "object_fit": null,
            "grid_auto_columns": null,
            "margin": null,
            "display": null,
            "left": null
          }
        },
        "ea1878d69e3a45909dde3ce39d8aa835": {
          "model_module": "@jupyter-widgets/controls",
          "model_name": "DescriptionStyleModel",
          "state": {
            "_view_name": "StyleView",
            "_model_name": "DescriptionStyleModel",
            "description_width": "",
            "_view_module": "@jupyter-widgets/base",
            "_model_module_version": "1.5.0",
            "_view_count": null,
            "_view_module_version": "1.2.0",
            "_model_module": "@jupyter-widgets/controls"
          }
        },
        "cca85a69ae424b06aa3e65c3bb34e6c0": {
          "model_module": "@jupyter-widgets/base",
          "model_name": "LayoutModel",
          "state": {
            "_view_name": "LayoutView",
            "grid_template_rows": null,
            "right": null,
            "justify_content": null,
            "_view_module": "@jupyter-widgets/base",
            "overflow": null,
            "_model_module_version": "1.2.0",
            "_view_count": null,
            "flex_flow": null,
            "width": null,
            "min_width": null,
            "border": null,
            "align_items": null,
            "bottom": null,
            "_model_module": "@jupyter-widgets/base",
            "top": null,
            "grid_column": null,
            "overflow_y": null,
            "overflow_x": null,
            "grid_auto_flow": null,
            "grid_area": null,
            "grid_template_columns": null,
            "flex": null,
            "_model_name": "LayoutModel",
            "justify_items": null,
            "grid_row": null,
            "max_height": null,
            "align_content": null,
            "visibility": null,
            "align_self": null,
            "height": null,
            "min_height": null,
            "padding": null,
            "grid_auto_rows": null,
            "grid_gap": null,
            "max_width": null,
            "order": null,
            "_view_module_version": "1.2.0",
            "grid_template_areas": null,
            "object_position": null,
            "object_fit": null,
            "grid_auto_columns": null,
            "margin": null,
            "display": null,
            "left": null
          }
        },
        "fc77178fdf204ea88628dc27d5350d56": {
          "model_module": "@jupyter-widgets/controls",
          "model_name": "HBoxModel",
          "state": {
            "_view_name": "HBoxView",
            "_dom_classes": [],
            "_model_name": "HBoxModel",
            "_view_module": "@jupyter-widgets/controls",
            "_model_module_version": "1.5.0",
            "_view_count": null,
            "_view_module_version": "1.5.0",
            "box_style": "",
            "layout": "IPY_MODEL_e4c67ac778b3473f8cd2f08bfcdd06fa",
            "_model_module": "@jupyter-widgets/controls",
            "children": [
              "IPY_MODEL_f24fc0b756f24b0ba2c2a14a295f1de7",
              "IPY_MODEL_47bb0c2ecbfe4b448a03ee238ef62703"
            ]
          }
        },
        "e4c67ac778b3473f8cd2f08bfcdd06fa": {
          "model_module": "@jupyter-widgets/base",
          "model_name": "LayoutModel",
          "state": {
            "_view_name": "LayoutView",
            "grid_template_rows": null,
            "right": null,
            "justify_content": null,
            "_view_module": "@jupyter-widgets/base",
            "overflow": null,
            "_model_module_version": "1.2.0",
            "_view_count": null,
            "flex_flow": null,
            "width": null,
            "min_width": null,
            "border": null,
            "align_items": null,
            "bottom": null,
            "_model_module": "@jupyter-widgets/base",
            "top": null,
            "grid_column": null,
            "overflow_y": null,
            "overflow_x": null,
            "grid_auto_flow": null,
            "grid_area": null,
            "grid_template_columns": null,
            "flex": null,
            "_model_name": "LayoutModel",
            "justify_items": null,
            "grid_row": null,
            "max_height": null,
            "align_content": null,
            "visibility": null,
            "align_self": null,
            "height": null,
            "min_height": null,
            "padding": null,
            "grid_auto_rows": null,
            "grid_gap": null,
            "max_width": null,
            "order": null,
            "_view_module_version": "1.2.0",
            "grid_template_areas": null,
            "object_position": null,
            "object_fit": null,
            "grid_auto_columns": null,
            "margin": null,
            "display": null,
            "left": null
          }
        },
        "f24fc0b756f24b0ba2c2a14a295f1de7": {
          "model_module": "@jupyter-widgets/controls",
          "model_name": "IntProgressModel",
          "state": {
            "_view_name": "ProgressView",
            "style": "IPY_MODEL_63717370307d48fb8d3569e706de007a",
            "_dom_classes": [],
            "description": "",
            "_model_name": "IntProgressModel",
            "bar_style": "success",
            "max": 1,
            "_view_module": "@jupyter-widgets/controls",
            "_model_module_version": "1.5.0",
            "value": 1,
            "_view_count": null,
            "_view_module_version": "1.5.0",
            "orientation": "horizontal",
            "min": 0,
            "description_tooltip": null,
            "_model_module": "@jupyter-widgets/controls",
            "layout": "IPY_MODEL_48208f4badaa401fb3d2b94ee9e53c43"
          }
        },
        "47bb0c2ecbfe4b448a03ee238ef62703": {
          "model_module": "@jupyter-widgets/controls",
          "model_name": "HTMLModel",
          "state": {
            "_view_name": "HTMLView",
            "style": "IPY_MODEL_f8569f62369f44f4940d55b6818d437f",
            "_dom_classes": [],
            "description": "",
            "_model_name": "HTMLModel",
            "placeholder": "​",
            "_view_module": "@jupyter-widgets/controls",
            "_model_module_version": "1.5.0",
            "value": " 32768/? [00:00&lt;00:00, 54029.52it/s]",
            "_view_count": null,
            "_view_module_version": "1.5.0",
            "description_tooltip": null,
            "_model_module": "@jupyter-widgets/controls",
            "layout": "IPY_MODEL_ab19ff04bf32477f82eef2fd996f9274"
          }
        },
        "63717370307d48fb8d3569e706de007a": {
          "model_module": "@jupyter-widgets/controls",
          "model_name": "ProgressStyleModel",
          "state": {
            "_view_name": "StyleView",
            "_model_name": "ProgressStyleModel",
            "description_width": "initial",
            "_view_module": "@jupyter-widgets/base",
            "_model_module_version": "1.5.0",
            "_view_count": null,
            "_view_module_version": "1.2.0",
            "bar_color": null,
            "_model_module": "@jupyter-widgets/controls"
          }
        },
        "48208f4badaa401fb3d2b94ee9e53c43": {
          "model_module": "@jupyter-widgets/base",
          "model_name": "LayoutModel",
          "state": {
            "_view_name": "LayoutView",
            "grid_template_rows": null,
            "right": null,
            "justify_content": null,
            "_view_module": "@jupyter-widgets/base",
            "overflow": null,
            "_model_module_version": "1.2.0",
            "_view_count": null,
            "flex_flow": null,
            "width": null,
            "min_width": null,
            "border": null,
            "align_items": null,
            "bottom": null,
            "_model_module": "@jupyter-widgets/base",
            "top": null,
            "grid_column": null,
            "overflow_y": null,
            "overflow_x": null,
            "grid_auto_flow": null,
            "grid_area": null,
            "grid_template_columns": null,
            "flex": null,
            "_model_name": "LayoutModel",
            "justify_items": null,
            "grid_row": null,
            "max_height": null,
            "align_content": null,
            "visibility": null,
            "align_self": null,
            "height": null,
            "min_height": null,
            "padding": null,
            "grid_auto_rows": null,
            "grid_gap": null,
            "max_width": null,
            "order": null,
            "_view_module_version": "1.2.0",
            "grid_template_areas": null,
            "object_position": null,
            "object_fit": null,
            "grid_auto_columns": null,
            "margin": null,
            "display": null,
            "left": null
          }
        },
        "f8569f62369f44f4940d55b6818d437f": {
          "model_module": "@jupyter-widgets/controls",
          "model_name": "DescriptionStyleModel",
          "state": {
            "_view_name": "StyleView",
            "_model_name": "DescriptionStyleModel",
            "description_width": "",
            "_view_module": "@jupyter-widgets/base",
            "_model_module_version": "1.5.0",
            "_view_count": null,
            "_view_module_version": "1.2.0",
            "_model_module": "@jupyter-widgets/controls"
          }
        },
        "ab19ff04bf32477f82eef2fd996f9274": {
          "model_module": "@jupyter-widgets/base",
          "model_name": "LayoutModel",
          "state": {
            "_view_name": "LayoutView",
            "grid_template_rows": null,
            "right": null,
            "justify_content": null,
            "_view_module": "@jupyter-widgets/base",
            "overflow": null,
            "_model_module_version": "1.2.0",
            "_view_count": null,
            "flex_flow": null,
            "width": null,
            "min_width": null,
            "border": null,
            "align_items": null,
            "bottom": null,
            "_model_module": "@jupyter-widgets/base",
            "top": null,
            "grid_column": null,
            "overflow_y": null,
            "overflow_x": null,
            "grid_auto_flow": null,
            "grid_area": null,
            "grid_template_columns": null,
            "flex": null,
            "_model_name": "LayoutModel",
            "justify_items": null,
            "grid_row": null,
            "max_height": null,
            "align_content": null,
            "visibility": null,
            "align_self": null,
            "height": null,
            "min_height": null,
            "padding": null,
            "grid_auto_rows": null,
            "grid_gap": null,
            "max_width": null,
            "order": null,
            "_view_module_version": "1.2.0",
            "grid_template_areas": null,
            "object_position": null,
            "object_fit": null,
            "grid_auto_columns": null,
            "margin": null,
            "display": null,
            "left": null
          }
        },
        "f0258cf3a3db40d39b4566f49a45dda7": {
          "model_module": "@jupyter-widgets/controls",
          "model_name": "HBoxModel",
          "state": {
            "_view_name": "HBoxView",
            "_dom_classes": [],
            "_model_name": "HBoxModel",
            "_view_module": "@jupyter-widgets/controls",
            "_model_module_version": "1.5.0",
            "_view_count": null,
            "_view_module_version": "1.5.0",
            "box_style": "",
            "layout": "IPY_MODEL_c8edeff6fd5247cdb48f0bce287c27fa",
            "_model_module": "@jupyter-widgets/controls",
            "children": [
              "IPY_MODEL_83ca14162fc044ce8f9055a26350061d",
              "IPY_MODEL_8f8c783909f545ab83d59c4b770d7886"
            ]
          }
        },
        "c8edeff6fd5247cdb48f0bce287c27fa": {
          "model_module": "@jupyter-widgets/base",
          "model_name": "LayoutModel",
          "state": {
            "_view_name": "LayoutView",
            "grid_template_rows": null,
            "right": null,
            "justify_content": null,
            "_view_module": "@jupyter-widgets/base",
            "overflow": null,
            "_model_module_version": "1.2.0",
            "_view_count": null,
            "flex_flow": null,
            "width": null,
            "min_width": null,
            "border": null,
            "align_items": null,
            "bottom": null,
            "_model_module": "@jupyter-widgets/base",
            "top": null,
            "grid_column": null,
            "overflow_y": null,
            "overflow_x": null,
            "grid_auto_flow": null,
            "grid_area": null,
            "grid_template_columns": null,
            "flex": null,
            "_model_name": "LayoutModel",
            "justify_items": null,
            "grid_row": null,
            "max_height": null,
            "align_content": null,
            "visibility": null,
            "align_self": null,
            "height": null,
            "min_height": null,
            "padding": null,
            "grid_auto_rows": null,
            "grid_gap": null,
            "max_width": null,
            "order": null,
            "_view_module_version": "1.2.0",
            "grid_template_areas": null,
            "object_position": null,
            "object_fit": null,
            "grid_auto_columns": null,
            "margin": null,
            "display": null,
            "left": null
          }
        },
        "83ca14162fc044ce8f9055a26350061d": {
          "model_module": "@jupyter-widgets/controls",
          "model_name": "IntProgressModel",
          "state": {
            "_view_name": "ProgressView",
            "style": "IPY_MODEL_1b415d6c1bc24a74a92858915db22a2a",
            "_dom_classes": [],
            "description": "",
            "_model_name": "IntProgressModel",
            "bar_style": "success",
            "max": 1,
            "_view_module": "@jupyter-widgets/controls",
            "_model_module_version": "1.5.0",
            "value": 1,
            "_view_count": null,
            "_view_module_version": "1.5.0",
            "orientation": "horizontal",
            "min": 0,
            "description_tooltip": null,
            "_model_module": "@jupyter-widgets/controls",
            "layout": "IPY_MODEL_15dc265d39f04372b7ea563b1ee78493"
          }
        },
        "8f8c783909f545ab83d59c4b770d7886": {
          "model_module": "@jupyter-widgets/controls",
          "model_name": "HTMLModel",
          "state": {
            "_view_name": "HTMLView",
            "style": "IPY_MODEL_e1017c22b18a402aa2be08f7e4beac1e",
            "_dom_classes": [],
            "description": "",
            "_model_name": "HTMLModel",
            "placeholder": "​",
            "_view_module": "@jupyter-widgets/controls",
            "_model_module_version": "1.5.0",
            "value": " 1654784/? [00:00&lt;00:00, 3364989.22it/s]",
            "_view_count": null,
            "_view_module_version": "1.5.0",
            "description_tooltip": null,
            "_model_module": "@jupyter-widgets/controls",
            "layout": "IPY_MODEL_2a0cecedd30040849054fda5cf3f3c6a"
          }
        },
        "1b415d6c1bc24a74a92858915db22a2a": {
          "model_module": "@jupyter-widgets/controls",
          "model_name": "ProgressStyleModel",
          "state": {
            "_view_name": "StyleView",
            "_model_name": "ProgressStyleModel",
            "description_width": "initial",
            "_view_module": "@jupyter-widgets/base",
            "_model_module_version": "1.5.0",
            "_view_count": null,
            "_view_module_version": "1.2.0",
            "bar_color": null,
            "_model_module": "@jupyter-widgets/controls"
          }
        },
        "15dc265d39f04372b7ea563b1ee78493": {
          "model_module": "@jupyter-widgets/base",
          "model_name": "LayoutModel",
          "state": {
            "_view_name": "LayoutView",
            "grid_template_rows": null,
            "right": null,
            "justify_content": null,
            "_view_module": "@jupyter-widgets/base",
            "overflow": null,
            "_model_module_version": "1.2.0",
            "_view_count": null,
            "flex_flow": null,
            "width": null,
            "min_width": null,
            "border": null,
            "align_items": null,
            "bottom": null,
            "_model_module": "@jupyter-widgets/base",
            "top": null,
            "grid_column": null,
            "overflow_y": null,
            "overflow_x": null,
            "grid_auto_flow": null,
            "grid_area": null,
            "grid_template_columns": null,
            "flex": null,
            "_model_name": "LayoutModel",
            "justify_items": null,
            "grid_row": null,
            "max_height": null,
            "align_content": null,
            "visibility": null,
            "align_self": null,
            "height": null,
            "min_height": null,
            "padding": null,
            "grid_auto_rows": null,
            "grid_gap": null,
            "max_width": null,
            "order": null,
            "_view_module_version": "1.2.0",
            "grid_template_areas": null,
            "object_position": null,
            "object_fit": null,
            "grid_auto_columns": null,
            "margin": null,
            "display": null,
            "left": null
          }
        },
        "e1017c22b18a402aa2be08f7e4beac1e": {
          "model_module": "@jupyter-widgets/controls",
          "model_name": "DescriptionStyleModel",
          "state": {
            "_view_name": "StyleView",
            "_model_name": "DescriptionStyleModel",
            "description_width": "",
            "_view_module": "@jupyter-widgets/base",
            "_model_module_version": "1.5.0",
            "_view_count": null,
            "_view_module_version": "1.2.0",
            "_model_module": "@jupyter-widgets/controls"
          }
        },
        "2a0cecedd30040849054fda5cf3f3c6a": {
          "model_module": "@jupyter-widgets/base",
          "model_name": "LayoutModel",
          "state": {
            "_view_name": "LayoutView",
            "grid_template_rows": null,
            "right": null,
            "justify_content": null,
            "_view_module": "@jupyter-widgets/base",
            "overflow": null,
            "_model_module_version": "1.2.0",
            "_view_count": null,
            "flex_flow": null,
            "width": null,
            "min_width": null,
            "border": null,
            "align_items": null,
            "bottom": null,
            "_model_module": "@jupyter-widgets/base",
            "top": null,
            "grid_column": null,
            "overflow_y": null,
            "overflow_x": null,
            "grid_auto_flow": null,
            "grid_area": null,
            "grid_template_columns": null,
            "flex": null,
            "_model_name": "LayoutModel",
            "justify_items": null,
            "grid_row": null,
            "max_height": null,
            "align_content": null,
            "visibility": null,
            "align_self": null,
            "height": null,
            "min_height": null,
            "padding": null,
            "grid_auto_rows": null,
            "grid_gap": null,
            "max_width": null,
            "order": null,
            "_view_module_version": "1.2.0",
            "grid_template_areas": null,
            "object_position": null,
            "object_fit": null,
            "grid_auto_columns": null,
            "margin": null,
            "display": null,
            "left": null
          }
        },
        "2fda157232734d63a79d73658b9b7720": {
          "model_module": "@jupyter-widgets/controls",
          "model_name": "HBoxModel",
          "state": {
            "_view_name": "HBoxView",
            "_dom_classes": [],
            "_model_name": "HBoxModel",
            "_view_module": "@jupyter-widgets/controls",
            "_model_module_version": "1.5.0",
            "_view_count": null,
            "_view_module_version": "1.5.0",
            "box_style": "",
            "layout": "IPY_MODEL_0d821655bdbc4310a853f6c9268e7e73",
            "_model_module": "@jupyter-widgets/controls",
            "children": [
              "IPY_MODEL_91892b2602214a50af3792a558156d5a",
              "IPY_MODEL_6e9fcd4fe0114c69a2649240d6a01492"
            ]
          }
        },
        "0d821655bdbc4310a853f6c9268e7e73": {
          "model_module": "@jupyter-widgets/base",
          "model_name": "LayoutModel",
          "state": {
            "_view_name": "LayoutView",
            "grid_template_rows": null,
            "right": null,
            "justify_content": null,
            "_view_module": "@jupyter-widgets/base",
            "overflow": null,
            "_model_module_version": "1.2.0",
            "_view_count": null,
            "flex_flow": null,
            "width": null,
            "min_width": null,
            "border": null,
            "align_items": null,
            "bottom": null,
            "_model_module": "@jupyter-widgets/base",
            "top": null,
            "grid_column": null,
            "overflow_y": null,
            "overflow_x": null,
            "grid_auto_flow": null,
            "grid_area": null,
            "grid_template_columns": null,
            "flex": null,
            "_model_name": "LayoutModel",
            "justify_items": null,
            "grid_row": null,
            "max_height": null,
            "align_content": null,
            "visibility": null,
            "align_self": null,
            "height": null,
            "min_height": null,
            "padding": null,
            "grid_auto_rows": null,
            "grid_gap": null,
            "max_width": null,
            "order": null,
            "_view_module_version": "1.2.0",
            "grid_template_areas": null,
            "object_position": null,
            "object_fit": null,
            "grid_auto_columns": null,
            "margin": null,
            "display": null,
            "left": null
          }
        },
        "91892b2602214a50af3792a558156d5a": {
          "model_module": "@jupyter-widgets/controls",
          "model_name": "IntProgressModel",
          "state": {
            "_view_name": "ProgressView",
            "style": "IPY_MODEL_1ab13274db3c4ffab0dfa8ca9c88a3e5",
            "_dom_classes": [],
            "description": "",
            "_model_name": "IntProgressModel",
            "bar_style": "success",
            "max": 1,
            "_view_module": "@jupyter-widgets/controls",
            "_model_module_version": "1.5.0",
            "value": 1,
            "_view_count": null,
            "_view_module_version": "1.5.0",
            "orientation": "horizontal",
            "min": 0,
            "description_tooltip": null,
            "_model_module": "@jupyter-widgets/controls",
            "layout": "IPY_MODEL_028e2dc37751453ca626aec4f1519152"
          }
        },
        "6e9fcd4fe0114c69a2649240d6a01492": {
          "model_module": "@jupyter-widgets/controls",
          "model_name": "HTMLModel",
          "state": {
            "_view_name": "HTMLView",
            "style": "IPY_MODEL_f98b55e99dc548f2831d0fef711ca4e8",
            "_dom_classes": [],
            "description": "",
            "_model_name": "HTMLModel",
            "placeholder": "​",
            "_view_module": "@jupyter-widgets/controls",
            "_model_module_version": "1.5.0",
            "value": " 8192/? [00:00&lt;00:00, 35347.89it/s]",
            "_view_count": null,
            "_view_module_version": "1.5.0",
            "description_tooltip": null,
            "_model_module": "@jupyter-widgets/controls",
            "layout": "IPY_MODEL_2a8d68c6337a4386adc3a3499fd33d92"
          }
        },
        "1ab13274db3c4ffab0dfa8ca9c88a3e5": {
          "model_module": "@jupyter-widgets/controls",
          "model_name": "ProgressStyleModel",
          "state": {
            "_view_name": "StyleView",
            "_model_name": "ProgressStyleModel",
            "description_width": "initial",
            "_view_module": "@jupyter-widgets/base",
            "_model_module_version": "1.5.0",
            "_view_count": null,
            "_view_module_version": "1.2.0",
            "bar_color": null,
            "_model_module": "@jupyter-widgets/controls"
          }
        },
        "028e2dc37751453ca626aec4f1519152": {
          "model_module": "@jupyter-widgets/base",
          "model_name": "LayoutModel",
          "state": {
            "_view_name": "LayoutView",
            "grid_template_rows": null,
            "right": null,
            "justify_content": null,
            "_view_module": "@jupyter-widgets/base",
            "overflow": null,
            "_model_module_version": "1.2.0",
            "_view_count": null,
            "flex_flow": null,
            "width": null,
            "min_width": null,
            "border": null,
            "align_items": null,
            "bottom": null,
            "_model_module": "@jupyter-widgets/base",
            "top": null,
            "grid_column": null,
            "overflow_y": null,
            "overflow_x": null,
            "grid_auto_flow": null,
            "grid_area": null,
            "grid_template_columns": null,
            "flex": null,
            "_model_name": "LayoutModel",
            "justify_items": null,
            "grid_row": null,
            "max_height": null,
            "align_content": null,
            "visibility": null,
            "align_self": null,
            "height": null,
            "min_height": null,
            "padding": null,
            "grid_auto_rows": null,
            "grid_gap": null,
            "max_width": null,
            "order": null,
            "_view_module_version": "1.2.0",
            "grid_template_areas": null,
            "object_position": null,
            "object_fit": null,
            "grid_auto_columns": null,
            "margin": null,
            "display": null,
            "left": null
          }
        },
        "f98b55e99dc548f2831d0fef711ca4e8": {
          "model_module": "@jupyter-widgets/controls",
          "model_name": "DescriptionStyleModel",
          "state": {
            "_view_name": "StyleView",
            "_model_name": "DescriptionStyleModel",
            "description_width": "",
            "_view_module": "@jupyter-widgets/base",
            "_model_module_version": "1.5.0",
            "_view_count": null,
            "_view_module_version": "1.2.0",
            "_model_module": "@jupyter-widgets/controls"
          }
        },
        "2a8d68c6337a4386adc3a3499fd33d92": {
          "model_module": "@jupyter-widgets/base",
          "model_name": "LayoutModel",
          "state": {
            "_view_name": "LayoutView",
            "grid_template_rows": null,
            "right": null,
            "justify_content": null,
            "_view_module": "@jupyter-widgets/base",
            "overflow": null,
            "_model_module_version": "1.2.0",
            "_view_count": null,
            "flex_flow": null,
            "width": null,
            "min_width": null,
            "border": null,
            "align_items": null,
            "bottom": null,
            "_model_module": "@jupyter-widgets/base",
            "top": null,
            "grid_column": null,
            "overflow_y": null,
            "overflow_x": null,
            "grid_auto_flow": null,
            "grid_area": null,
            "grid_template_columns": null,
            "flex": null,
            "_model_name": "LayoutModel",
            "justify_items": null,
            "grid_row": null,
            "max_height": null,
            "align_content": null,
            "visibility": null,
            "align_self": null,
            "height": null,
            "min_height": null,
            "padding": null,
            "grid_auto_rows": null,
            "grid_gap": null,
            "max_width": null,
            "order": null,
            "_view_module_version": "1.2.0",
            "grid_template_areas": null,
            "object_position": null,
            "object_fit": null,
            "grid_auto_columns": null,
            "margin": null,
            "display": null,
            "left": null
          }
        }
      }
    }
  },
  "cells": [
    {
      "cell_type": "markdown",
      "metadata": {
        "id": "view-in-github",
        "colab_type": "text"
      },
      "source": [
        "<a href=\"https://colab.research.google.com/github/s00hyun/Today-I-Learned/blob/master/ML-DL/deep-learning-pytorch/lec4_cnn_mnist.ipynb\" target=\"_parent\"><img src=\"https://colab.research.google.com/assets/colab-badge.svg\" alt=\"Open In Colab\"/></a>"
      ]
    },
    {
      "cell_type": "markdown",
      "metadata": {
        "id": "AFRl6NQpiWj3",
        "colab_type": "text"
      },
      "source": [
        "## 1. 라이브러리 로드"
      ]
    },
    {
      "cell_type": "code",
      "metadata": {
        "id": "JPX_JMvDdEuf",
        "colab_type": "code",
        "colab": {}
      },
      "source": [
        "import torch, torchvision"
      ],
      "execution_count": 0,
      "outputs": []
    },
    {
      "cell_type": "code",
      "metadata": {
        "id": "i0rq5RWzdKdq",
        "colab_type": "code",
        "colab": {}
      },
      "source": [
        "import torch.nn as nn # 딥러닝을 위한 torch 함수 제공\n",
        "import torch.nn.functional as F  # 딥러닝에 유용한 수학 함수 제공\n",
        "import torchvision.transforms as transforms  # 이미지 변환에 유용한 함수 제공"
      ],
      "execution_count": 0,
      "outputs": []
    },
    {
      "cell_type": "markdown",
      "metadata": {
        "id": "Q4BzfwbWigLg",
        "colab_type": "text"
      },
      "source": [
        "## 2. 모델 선언"
      ]
    },
    {
      "cell_type": "code",
      "metadata": {
        "id": "zv65QCFgdQVw",
        "colab_type": "code",
        "colab": {}
      },
      "source": [
        "class ConvNet(nn.Module):\n",
        "  def __init__(self, num_classes=10):  # 신경망이 분류할 이미지 항목 갯수 지정\n",
        "    super(ConvNet, self).__init__()\n",
        "\n",
        "    ### nn.Sequential\n",
        "    # in_channels: 입력 채널 수 (흑백=>1, 컬러=>3)\n",
        "    # out_channels: 출력 채널 수\n",
        "    # kernel_size: convolution filter의 가로세로 크기\n",
        "    # padding: zero padding의 두께\n",
        "\n",
        "    ### nn.MaxPool2d\n",
        "    # kernel_size: maxpool size. \n",
        "    # stride: 일반적으로 kernel_size와 동일한 값을 사용\n",
        "    #         maxpooling 수행 시 window가 건너뛰게 되는 기본 길이\n",
        "\n",
        "    ### nn.Linear(in_features(입력 데이터 개수), out_channel(출력 데이터 개수))\n",
        "    # 중요: 출력 데이터의 개수 == 클래스 개수 (num_classes)\n",
        "    self.layer1 = nn.Sequential(nn.Conv2d(in_channels=1, out_channels=16, \n",
        "                                          kernel_size=5, stride=1, padding=2),\n",
        "                                nn.ReLU(),\n",
        "                                nn.MaxPool2d(kernel_size=2, stride=2))\n",
        "    self.layer2 = nn.Sequential(nn.Conv2d(in_channels=16, out_channels=32, \n",
        "                                          kernel_size=5, stride=1, padding=2),\n",
        "                                nn.ReLU(),\n",
        "                                nn.MaxPool2d(kernel_size=2, stride=2))\n",
        "    self.fc = nn.Linear(7 * 7 * 32, num_classes)\n",
        "  \n",
        "  # 연산 순서를 정의\n",
        "  def forward(self, x):\n",
        "    out = self.layer1(x)\n",
        "    out = self.layer2(out)\n",
        "\n",
        "    # 텐서를 벡터 형태로 편다. 목표로 하는 텐서 사이즈를 넣어준다. \n",
        "    # ex. (batch_size, 32, 7, 7) => (batch_size, 1568)\n",
        "    flatten = out.reshape(out.size(0), -1)  \n",
        "\n",
        "    score = self.fc(flatten)\n",
        "    prob = F.softmax(score, dim=1)\n",
        "\n",
        "    return prob"
      ],
      "execution_count": 0,
      "outputs": []
    },
    {
      "cell_type": "markdown",
      "metadata": {
        "id": "fRlJ47ZrikoX",
        "colab_type": "text"
      },
      "source": [
        "## 3. 조건 설정"
      ]
    },
    {
      "cell_type": "code",
      "metadata": {
        "id": "w7I9Rj9tevSc",
        "colab_type": "code",
        "colab": {}
      },
      "source": [
        "num_epochs, num_classes, batch_size, learning_rate = 10, 10, 100, 0.1"
      ],
      "execution_count": 0,
      "outputs": []
    },
    {
      "cell_type": "markdown",
      "metadata": {
        "id": "UvpL5UBkimQi",
        "colab_type": "text"
      },
      "source": [
        "## 4. 데이터로더 설정"
      ]
    },
    {
      "cell_type": "code",
      "metadata": {
        "id": "HwmshoHfhD-E",
        "colab_type": "code",
        "outputId": "408a4a8d-f31d-4121-bcf9-66241c6b7622",
        "colab": {
          "base_uri": "https://localhost:8080/",
          "height": 386,
          "referenced_widgets": [
            "26b82e3abe504edb97680a2a1dbb696f",
            "164513d693e345d1bc197d05f2f550a8",
            "603e2e68ab7045c9bd5bfe0a412cf5be",
            "0f51c1b941f14121972dbfcb7d30dc49",
            "bfa6dd6ad5d1431ebecc15dc50bf52a3",
            "8bbf86d03a6546a9bfdba9b8170f3211",
            "ea1878d69e3a45909dde3ce39d8aa835",
            "cca85a69ae424b06aa3e65c3bb34e6c0",
            "fc77178fdf204ea88628dc27d5350d56",
            "e4c67ac778b3473f8cd2f08bfcdd06fa",
            "f24fc0b756f24b0ba2c2a14a295f1de7",
            "47bb0c2ecbfe4b448a03ee238ef62703",
            "63717370307d48fb8d3569e706de007a",
            "48208f4badaa401fb3d2b94ee9e53c43",
            "f8569f62369f44f4940d55b6818d437f",
            "ab19ff04bf32477f82eef2fd996f9274",
            "f0258cf3a3db40d39b4566f49a45dda7",
            "c8edeff6fd5247cdb48f0bce287c27fa",
            "83ca14162fc044ce8f9055a26350061d",
            "8f8c783909f545ab83d59c4b770d7886",
            "1b415d6c1bc24a74a92858915db22a2a",
            "15dc265d39f04372b7ea563b1ee78493",
            "e1017c22b18a402aa2be08f7e4beac1e",
            "2a0cecedd30040849054fda5cf3f3c6a",
            "2fda157232734d63a79d73658b9b7720",
            "0d821655bdbc4310a853f6c9268e7e73",
            "91892b2602214a50af3792a558156d5a",
            "6e9fcd4fe0114c69a2649240d6a01492",
            "1ab13274db3c4ffab0dfa8ca9c88a3e5",
            "028e2dc37751453ca626aec4f1519152",
            "f98b55e99dc548f2831d0fef711ca4e8",
            "2a8d68c6337a4386adc3a3499fd33d92"
          ]
        }
      },
      "source": [
        "# root: 데이터셋 저장 위치\n",
        "# train: train dataset인지 아닌지를 결정\n",
        "# transforms.ToTensor(): 이미지 행렬을 PyTorch 텐서로 변환\n",
        "# download: 데이터셋 다운로드 여부\n",
        "train_dataset = torchvision.datasets.MNIST(root='./data', train=True, transform=transforms.ToTensor(), download=True)\n",
        "test_dataset = torchvision.datasets.MNIST(root='./data', train=True, transform=transforms.ToTensor())\n",
        "\n",
        "# torch.utils.data.DataLoader(): MNIST 데이터셋을 입력으로 받아 Batch Size만큼 묶어줌\n",
        "train_loader = torch.utils.data.DataLoader(dataset=train_dataset, batch_size=batch_size, shuffle=True)\n",
        "test_loader = torch.utils.data.DataLoader(dataset=test_dataset, batch_size=batch_size, shuffle=False)\n"
      ],
      "execution_count": 0,
      "outputs": [
        {
          "output_type": "stream",
          "text": [
            "Downloading http://yann.lecun.com/exdb/mnist/train-images-idx3-ubyte.gz to ./data/MNIST/raw/train-images-idx3-ubyte.gz\n"
          ],
          "name": "stdout"
        },
        {
          "output_type": "display_data",
          "data": {
            "application/vnd.jupyter.widget-view+json": {
              "model_id": "26b82e3abe504edb97680a2a1dbb696f",
              "version_minor": 0,
              "version_major": 2
            },
            "text/plain": [
              "HBox(children=(IntProgress(value=1, bar_style='info', max=1), HTML(value='')))"
            ]
          },
          "metadata": {
            "tags": []
          }
        },
        {
          "output_type": "stream",
          "text": [
            "Extracting ./data/MNIST/raw/train-images-idx3-ubyte.gz to ./data/MNIST/raw\n",
            "Downloading http://yann.lecun.com/exdb/mnist/train-labels-idx1-ubyte.gz to ./data/MNIST/raw/train-labels-idx1-ubyte.gz\n"
          ],
          "name": "stdout"
        },
        {
          "output_type": "display_data",
          "data": {
            "application/vnd.jupyter.widget-view+json": {
              "model_id": "fc77178fdf204ea88628dc27d5350d56",
              "version_minor": 0,
              "version_major": 2
            },
            "text/plain": [
              "HBox(children=(IntProgress(value=1, bar_style='info', max=1), HTML(value='')))"
            ]
          },
          "metadata": {
            "tags": []
          }
        },
        {
          "output_type": "stream",
          "text": [
            "Extracting ./data/MNIST/raw/train-labels-idx1-ubyte.gz to ./data/MNIST/raw\n",
            "Downloading http://yann.lecun.com/exdb/mnist/t10k-images-idx3-ubyte.gz to ./data/MNIST/raw/t10k-images-idx3-ubyte.gz\n"
          ],
          "name": "stdout"
        },
        {
          "output_type": "display_data",
          "data": {
            "application/vnd.jupyter.widget-view+json": {
              "model_id": "f0258cf3a3db40d39b4566f49a45dda7",
              "version_minor": 0,
              "version_major": 2
            },
            "text/plain": [
              "HBox(children=(IntProgress(value=1, bar_style='info', max=1), HTML(value='')))"
            ]
          },
          "metadata": {
            "tags": []
          }
        },
        {
          "output_type": "stream",
          "text": [
            "Extracting ./data/MNIST/raw/t10k-images-idx3-ubyte.gz to ./data/MNIST/raw\n",
            "Downloading http://yann.lecun.com/exdb/mnist/t10k-labels-idx1-ubyte.gz to ./data/MNIST/raw/t10k-labels-idx1-ubyte.gz\n"
          ],
          "name": "stdout"
        },
        {
          "output_type": "display_data",
          "data": {
            "application/vnd.jupyter.widget-view+json": {
              "model_id": "2fda157232734d63a79d73658b9b7720",
              "version_minor": 0,
              "version_major": 2
            },
            "text/plain": [
              "HBox(children=(IntProgress(value=1, bar_style='info', max=1), HTML(value='')))"
            ]
          },
          "metadata": {
            "tags": []
          }
        },
        {
          "output_type": "stream",
          "text": [
            "Extracting ./data/MNIST/raw/t10k-labels-idx1-ubyte.gz to ./data/MNIST/raw\n",
            "Processing...\n",
            "Done!\n",
            "\n",
            "\n",
            "\n"
          ],
          "name": "stdout"
        }
      ]
    },
    {
      "cell_type": "markdown",
      "metadata": {
        "id": "HnfbP4vKio4W",
        "colab_type": "text"
      },
      "source": [
        "## 5. 모델 설정"
      ]
    },
    {
      "cell_type": "code",
      "metadata": {
        "id": "ZlyvzXikiA7M",
        "colab_type": "code",
        "colab": {}
      },
      "source": [
        "model = ConvNet()\n",
        "criterion = nn.CrossEntropyLoss()\n",
        "optimizer = torch.optim.SGD(model.parameters(), lr=learning_rate)"
      ],
      "execution_count": 0,
      "outputs": []
    },
    {
      "cell_type": "markdown",
      "metadata": {
        "id": "DzWSWIrhirCB",
        "colab_type": "text"
      },
      "source": [
        "## 6. Training 수행"
      ]
    },
    {
      "cell_type": "code",
      "metadata": {
        "id": "40alPNmoiTRK",
        "colab_type": "code",
        "outputId": "c8e2f370-0330-4496-e3d2-e1e20e29421d",
        "colab": {
          "base_uri": "https://localhost:8080/",
          "height": 1000
        }
      },
      "source": [
        "for epoch in range(num_epochs):\n",
        "  for i, (images, labels) in enumerate(train_loader):\n",
        "    # 입력 이미지를 model에 입력하여 예측값 산출\n",
        "    outputs = model(images)\n",
        "    # 예측값과 정답 레이블 간의 차이 계산\n",
        "    loss = criterion(outputs, labels)\n",
        "    # 매 data batch마다 optimizer 내의 gradient 값을 모두 0으로 초기화\n",
        "    optimizer.zero_grad()\n",
        "    # loss (예측값과 정답 간의 차이) 를 통해서 gradient를 계산\n",
        "    loss.backward()\n",
        "    # 계산된 gradient값을 이용하여 모델 내의 변수를 업데이트\n",
        "    optimizer.step()\n",
        "    # 예측 레이블과 정답 레이블을 이용해 정확도 산출\n",
        "    # torch.max: torch tensor 내에서 가장 높은 값과, 그 값의 index를 추출함\n",
        "    _, predicted = torch.max(outputs.data, 1)  # dimension=1\n",
        "\n",
        "    correct = (predicted == labels).sum().item()  # 텐서 요소가 1개일 경우 item()으로 값을 얻을 수 있음\n",
        "    if (i + 1) % 100 == 0:\n",
        "      print('Epoch: {}/{}, Batch Step: {}/{}, Loss: {:.4f}, Training Accuracy of the Current Batch: {}%'.\n",
        "                  format(epoch + 1, num_epochs, i + 1, train_loader.__len__(), loss.item(), 100 * correct / batch_size))\n",
        "      "
      ],
      "execution_count": 0,
      "outputs": [
        {
          "output_type": "stream",
          "text": [
            "Epoch: 1/10, Batch Step: 100/600, Loss: 2.1383, Training Accuracy of the Current Batch: 39.0%\n",
            "Epoch: 1/10, Batch Step: 200/600, Loss: 1.8610, Training Accuracy of the Current Batch: 61.0%\n",
            "Epoch: 1/10, Batch Step: 300/600, Loss: 1.8435, Training Accuracy of the Current Batch: 62.0%\n",
            "Epoch: 1/10, Batch Step: 400/600, Loss: 1.8092, Training Accuracy of the Current Batch: 65.0%\n",
            "Epoch: 1/10, Batch Step: 500/600, Loss: 1.7833, Training Accuracy of the Current Batch: 68.0%\n",
            "Epoch: 1/10, Batch Step: 600/600, Loss: 1.6585, Training Accuracy of the Current Batch: 81.0%\n",
            "Epoch: 2/10, Batch Step: 100/600, Loss: 1.6214, Training Accuracy of the Current Batch: 87.0%\n",
            "Epoch: 2/10, Batch Step: 200/600, Loss: 1.6553, Training Accuracy of the Current Batch: 82.0%\n",
            "Epoch: 2/10, Batch Step: 300/600, Loss: 1.5730, Training Accuracy of the Current Batch: 91.0%\n",
            "Epoch: 2/10, Batch Step: 400/600, Loss: 1.6549, Training Accuracy of the Current Batch: 79.0%\n",
            "Epoch: 2/10, Batch Step: 500/600, Loss: 1.6592, Training Accuracy of the Current Batch: 81.0%\n",
            "Epoch: 2/10, Batch Step: 600/600, Loss: 1.6030, Training Accuracy of the Current Batch: 86.0%\n",
            "Epoch: 3/10, Batch Step: 100/600, Loss: 1.6404, Training Accuracy of the Current Batch: 82.0%\n",
            "Epoch: 3/10, Batch Step: 200/600, Loss: 1.5945, Training Accuracy of the Current Batch: 87.0%\n",
            "Epoch: 3/10, Batch Step: 300/600, Loss: 1.6040, Training Accuracy of the Current Batch: 86.0%\n",
            "Epoch: 3/10, Batch Step: 400/600, Loss: 1.6133, Training Accuracy of the Current Batch: 85.0%\n",
            "Epoch: 3/10, Batch Step: 500/600, Loss: 1.6232, Training Accuracy of the Current Batch: 83.0%\n",
            "Epoch: 3/10, Batch Step: 600/600, Loss: 1.6259, Training Accuracy of the Current Batch: 83.0%\n",
            "Epoch: 4/10, Batch Step: 100/600, Loss: 1.5985, Training Accuracy of the Current Batch: 86.0%\n",
            "Epoch: 4/10, Batch Step: 200/600, Loss: 1.5436, Training Accuracy of the Current Batch: 93.0%\n",
            "Epoch: 4/10, Batch Step: 300/600, Loss: 1.6593, Training Accuracy of the Current Batch: 80.0%\n",
            "Epoch: 4/10, Batch Step: 400/600, Loss: 1.6177, Training Accuracy of the Current Batch: 85.0%\n",
            "Epoch: 4/10, Batch Step: 500/600, Loss: 1.5880, Training Accuracy of the Current Batch: 88.0%\n",
            "Epoch: 4/10, Batch Step: 600/600, Loss: 1.6029, Training Accuracy of the Current Batch: 86.0%\n",
            "Epoch: 5/10, Batch Step: 100/600, Loss: 1.6602, Training Accuracy of the Current Batch: 80.0%\n",
            "Epoch: 5/10, Batch Step: 200/600, Loss: 1.5960, Training Accuracy of the Current Batch: 87.0%\n",
            "Epoch: 5/10, Batch Step: 300/600, Loss: 1.5832, Training Accuracy of the Current Batch: 88.0%\n",
            "Epoch: 5/10, Batch Step: 400/600, Loss: 1.5914, Training Accuracy of the Current Batch: 87.0%\n",
            "Epoch: 5/10, Batch Step: 500/600, Loss: 1.5808, Training Accuracy of the Current Batch: 88.0%\n",
            "Epoch: 5/10, Batch Step: 600/600, Loss: 1.5990, Training Accuracy of the Current Batch: 86.0%\n",
            "Epoch: 6/10, Batch Step: 100/600, Loss: 1.6028, Training Accuracy of the Current Batch: 86.0%\n",
            "Epoch: 6/10, Batch Step: 200/600, Loss: 1.5893, Training Accuracy of the Current Batch: 87.0%\n",
            "Epoch: 6/10, Batch Step: 300/600, Loss: 1.5979, Training Accuracy of the Current Batch: 86.0%\n",
            "Epoch: 6/10, Batch Step: 400/600, Loss: 1.5921, Training Accuracy of the Current Batch: 88.0%\n",
            "Epoch: 6/10, Batch Step: 500/600, Loss: 1.5454, Training Accuracy of the Current Batch: 92.0%\n",
            "Epoch: 6/10, Batch Step: 600/600, Loss: 1.6320, Training Accuracy of the Current Batch: 83.0%\n",
            "Epoch: 7/10, Batch Step: 100/600, Loss: 1.6530, Training Accuracy of the Current Batch: 81.0%\n",
            "Epoch: 7/10, Batch Step: 200/600, Loss: 1.6370, Training Accuracy of the Current Batch: 83.0%\n",
            "Epoch: 7/10, Batch Step: 300/600, Loss: 1.5796, Training Accuracy of the Current Batch: 88.0%\n",
            "Epoch: 7/10, Batch Step: 400/600, Loss: 1.6131, Training Accuracy of the Current Batch: 85.0%\n",
            "Epoch: 7/10, Batch Step: 500/600, Loss: 1.5902, Training Accuracy of the Current Batch: 87.0%\n",
            "Epoch: 7/10, Batch Step: 600/600, Loss: 1.5867, Training Accuracy of the Current Batch: 87.0%\n",
            "Epoch: 8/10, Batch Step: 100/600, Loss: 1.5847, Training Accuracy of the Current Batch: 87.0%\n",
            "Epoch: 8/10, Batch Step: 200/600, Loss: 1.5788, Training Accuracy of the Current Batch: 88.0%\n",
            "Epoch: 8/10, Batch Step: 300/600, Loss: 1.5708, Training Accuracy of the Current Batch: 89.0%\n",
            "Epoch: 8/10, Batch Step: 400/600, Loss: 1.5929, Training Accuracy of the Current Batch: 87.0%\n",
            "Epoch: 8/10, Batch Step: 500/600, Loss: 1.5712, Training Accuracy of the Current Batch: 89.0%\n",
            "Epoch: 8/10, Batch Step: 600/600, Loss: 1.6016, Training Accuracy of the Current Batch: 86.0%\n",
            "Epoch: 9/10, Batch Step: 100/600, Loss: 1.5691, Training Accuracy of the Current Batch: 89.0%\n",
            "Epoch: 9/10, Batch Step: 200/600, Loss: 1.5526, Training Accuracy of the Current Batch: 91.0%\n",
            "Epoch: 9/10, Batch Step: 300/600, Loss: 1.5450, Training Accuracy of the Current Batch: 92.0%\n",
            "Epoch: 9/10, Batch Step: 400/600, Loss: 1.6263, Training Accuracy of the Current Batch: 83.0%\n",
            "Epoch: 9/10, Batch Step: 500/600, Loss: 1.5206, Training Accuracy of the Current Batch: 94.0%\n",
            "Epoch: 9/10, Batch Step: 600/600, Loss: 1.5764, Training Accuracy of the Current Batch: 88.0%\n",
            "Epoch: 10/10, Batch Step: 100/600, Loss: 1.5575, Training Accuracy of the Current Batch: 90.0%\n",
            "Epoch: 10/10, Batch Step: 200/600, Loss: 1.6653, Training Accuracy of the Current Batch: 79.0%\n",
            "Epoch: 10/10, Batch Step: 300/600, Loss: 1.5229, Training Accuracy of the Current Batch: 94.0%\n",
            "Epoch: 10/10, Batch Step: 400/600, Loss: 1.6291, Training Accuracy of the Current Batch: 83.0%\n",
            "Epoch: 10/10, Batch Step: 500/600, Loss: 1.5873, Training Accuracy of the Current Batch: 88.0%\n",
            "Epoch: 10/10, Batch Step: 600/600, Loss: 1.5769, Training Accuracy of the Current Batch: 88.0%\n"
          ],
          "name": "stdout"
        }
      ]
    },
    {
      "cell_type": "markdown",
      "metadata": {
        "id": "fdec60mEj8NW",
        "colab_type": "text"
      },
      "source": [
        "## 7. Test 수행"
      ]
    },
    {
      "cell_type": "code",
      "metadata": {
        "id": "4ooY_p81j9iE",
        "colab_type": "code",
        "outputId": "ec1512d7-fcef-4e8d-fa5f-4901fd31c334",
        "colab": {
          "base_uri": "https://localhost:8080/",
          "height": 34
        }
      },
      "source": [
        "# 모델을 학습 모드로 변경 (모델 변수 고정)\n",
        "model.eval()\n",
        "\n",
        "with torch.no_grad():  # 테스트 과정에서 gradient 계산을 배제\n",
        "  total, correct = 0, 0  # 전체 데이터 개수, 맞춘 데이터 개수\n",
        "  for images, lables in test_loader:\n",
        "    outputs = model(images)\n",
        "    _, predicted = torch.max(outputs.data, 1)  # values, indices\n",
        "    total += labels.size(0)\n",
        "    correct += (predicted == labels).sum().item()  # True의 갯수를 더한 후 텐서의 성분 추출\n",
        "  print('Test Accuracy of the 10,000 Test Images: {}%'.format(100 * correct / total))\n"
      ],
      "execution_count": 0,
      "outputs": [
        {
          "output_type": "stream",
          "text": [
            "Test Accuracy of the 10,000 Test Images: 10.12%\n"
          ],
          "name": "stdout"
        }
      ]
    },
    {
      "cell_type": "markdown",
      "metadata": {
        "id": "XJeyZ2m8kVfp",
        "colab_type": "text"
      },
      "source": [
        "## 8. Model 저장"
      ]
    },
    {
      "cell_type": "code",
      "metadata": {
        "id": "4od5WCTKkXBD",
        "colab_type": "code",
        "colab": {}
      },
      "source": [
        "# model의 parameter 저장\n",
        "\n",
        "# model.state_dict(): 각 레이어에 해당하는 학습 가능한 parameter를 딕셔너리 형태로 나타낸 것\n",
        "# 이 학습된 모델의 정보를 파이토치 파일로 저장 (확장자: .pt 또는 .pth)\n",
        "torch.save(model.state_dict(), 'cnn.pt')"
      ],
      "execution_count": 0,
      "outputs": []
    },
    {
      "cell_type": "code",
      "metadata": {
        "id": "PPfTQh5Su0ri",
        "colab_type": "code",
        "outputId": "6c860531-999c-4d7d-a73e-e00951891765",
        "colab": {
          "base_uri": "https://localhost:8080/",
          "height": 34
        }
      },
      "source": [
        "!ls"
      ],
      "execution_count": 0,
      "outputs": [
        {
          "output_type": "stream",
          "text": [
            "cnn.pt\tdata  drive  gdrive  sample_data\n"
          ],
          "name": "stdout"
        }
      ]
    },
    {
      "cell_type": "code",
      "metadata": {
        "id": "crrfuw4pvScT",
        "colab_type": "code",
        "outputId": "d9bf868d-e8e9-4fb4-8385-bb5d4478c65e",
        "colab": {
          "base_uri": "https://localhost:8080/",
          "height": 122
        }
      },
      "source": [
        "from google.colab import drive\n",
        "drive.mount('/content/gdrive/')"
      ],
      "execution_count": 0,
      "outputs": [
        {
          "output_type": "stream",
          "text": [
            "Go to this URL in a browser: https://accounts.google.com/o/oauth2/auth?client_id=947318989803-6bn6qk8qdgf4n4g3pfee6491hc0brc4i.apps.googleusercontent.com&redirect_uri=urn%3aietf%3awg%3aoauth%3a2.0%3aoob&response_type=code&scope=email%20https%3a%2f%2fwww.googleapis.com%2fauth%2fdocs.test%20https%3a%2f%2fwww.googleapis.com%2fauth%2fdrive%20https%3a%2f%2fwww.googleapis.com%2fauth%2fdrive.photos.readonly%20https%3a%2f%2fwww.googleapis.com%2fauth%2fpeopleapi.readonly\n",
            "\n",
            "Enter your authorization code:\n",
            "··········\n",
            "Mounted at /content/gdrive/\n"
          ],
          "name": "stdout"
        }
      ]
    },
    {
      "cell_type": "code",
      "metadata": {
        "id": "fCrg89vxvOzR",
        "colab_type": "code",
        "outputId": "30f8cc43-c65e-4f90-a2b8-47f261a9e05e",
        "colab": {
          "base_uri": "https://localhost:8080/",
          "height": 34
        }
      },
      "source": [
        "!ls gdrive/'My Drive'/'Colab Notebooks'"
      ],
      "execution_count": 0,
      "outputs": [
        {
          "output_type": "stream",
          "text": [
            "딥러닝수업  모두를위한딥러닝  Deep-learning-with-python  Untitled0.ipynb\n"
          ],
          "name": "stdout"
        }
      ]
    },
    {
      "cell_type": "code",
      "metadata": {
        "id": "_RfnfA3_vbf1",
        "colab_type": "code",
        "colab": {}
      },
      "source": [
        "!mv cnn.pt gdrive/'My Drive'/'Colab Notebooks'/'딥러닝수업'"
      ],
      "execution_count": 0,
      "outputs": []
    },
    {
      "cell_type": "code",
      "metadata": {
        "id": "_k7jHslOvkgD",
        "colab_type": "code",
        "outputId": "61913f8f-2dfd-45e6-cbe3-1b94a8626940",
        "colab": {
          "base_uri": "https://localhost:8080/",
          "height": 68
        }
      },
      "source": [
        "!ls gdrive/'My Drive'/'Colab Notebooks'/'딥러닝수업'"
      ],
      "execution_count": 0,
      "outputs": [
        {
          "output_type": "stream",
          "text": [
            " cnn.pt\t\t\t\t\t\t  HW01.ipynb\n",
            "'(Exp) 01_Python and NumPy basics.ipynb의 사본'   lec4-cnn-mnist\n",
            "'(Exp) 02_Pytorch Basics.ipynb의 사본'\t\t  lec4-cnn-mnist-plot.ipynb\n"
          ],
          "name": "stdout"
        }
      ]
    }
  ]
}