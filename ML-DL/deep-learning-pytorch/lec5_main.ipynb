{
  "nbformat": 4,
  "nbformat_minor": 0,
  "metadata": {
    "colab": {
      "name": "lec5_main.ipynb",
      "provenance": [],
      "collapsed_sections": [],
      "authorship_tag": "ABX9TyNtMAYhMoCXQHO29CnLHC0F",
      "include_colab_link": true
    },
    "kernelspec": {
      "name": "python3",
      "display_name": "Python 3"
    },
    "accelerator": "GPU",
    "widgets": {
      "application/vnd.jupyter.widget-state+json": {
        "8a8c1a2cf83d4e04816eb6b6983bc1bc": {
          "model_module": "@jupyter-widgets/controls",
          "model_name": "HBoxModel",
          "state": {
            "_view_name": "HBoxView",
            "_dom_classes": [],
            "_model_name": "HBoxModel",
            "_view_module": "@jupyter-widgets/controls",
            "_model_module_version": "1.5.0",
            "_view_count": null,
            "_view_module_version": "1.5.0",
            "box_style": "",
            "layout": "IPY_MODEL_c1f6db9ef18041bd922c31a8ead90f67",
            "_model_module": "@jupyter-widgets/controls",
            "children": [
              "IPY_MODEL_c3a834307f1a42a29eeaaca2f1345140",
              "IPY_MODEL_35e22d5dc73e41ca93a720a955ae02be"
            ]
          }
        },
        "c1f6db9ef18041bd922c31a8ead90f67": {
          "model_module": "@jupyter-widgets/base",
          "model_name": "LayoutModel",
          "state": {
            "_view_name": "LayoutView",
            "grid_template_rows": null,
            "right": null,
            "justify_content": null,
            "_view_module": "@jupyter-widgets/base",
            "overflow": null,
            "_model_module_version": "1.2.0",
            "_view_count": null,
            "flex_flow": null,
            "width": null,
            "min_width": null,
            "border": null,
            "align_items": null,
            "bottom": null,
            "_model_module": "@jupyter-widgets/base",
            "top": null,
            "grid_column": null,
            "overflow_y": null,
            "overflow_x": null,
            "grid_auto_flow": null,
            "grid_area": null,
            "grid_template_columns": null,
            "flex": null,
            "_model_name": "LayoutModel",
            "justify_items": null,
            "grid_row": null,
            "max_height": null,
            "align_content": null,
            "visibility": null,
            "align_self": null,
            "height": null,
            "min_height": null,
            "padding": null,
            "grid_auto_rows": null,
            "grid_gap": null,
            "max_width": null,
            "order": null,
            "_view_module_version": "1.2.0",
            "grid_template_areas": null,
            "object_position": null,
            "object_fit": null,
            "grid_auto_columns": null,
            "margin": null,
            "display": null,
            "left": null
          }
        },
        "c3a834307f1a42a29eeaaca2f1345140": {
          "model_module": "@jupyter-widgets/controls",
          "model_name": "IntProgressModel",
          "state": {
            "_view_name": "ProgressView",
            "style": "IPY_MODEL_a574c6166bb04e7592e620d00276b6de",
            "_dom_classes": [],
            "description": "",
            "_model_name": "IntProgressModel",
            "bar_style": "info",
            "max": 1,
            "_view_module": "@jupyter-widgets/controls",
            "_model_module_version": "1.5.0",
            "value": 1,
            "_view_count": null,
            "_view_module_version": "1.5.0",
            "orientation": "horizontal",
            "min": 0,
            "description_tooltip": null,
            "_model_module": "@jupyter-widgets/controls",
            "layout": "IPY_MODEL_54b08ba516e749709623c14dd8e4e87d"
          }
        },
        "35e22d5dc73e41ca93a720a955ae02be": {
          "model_module": "@jupyter-widgets/controls",
          "model_name": "HTMLModel",
          "state": {
            "_view_name": "HTMLView",
            "style": "IPY_MODEL_2a76e29e3bcc402d8f98e5bbcc2ea131",
            "_dom_classes": [],
            "description": "",
            "_model_name": "HTMLModel",
            "placeholder": "​",
            "_view_module": "@jupyter-widgets/controls",
            "_model_module_version": "1.5.0",
            "value": " 170500096/? [00:20&lt;00:00, 49285067.07it/s]",
            "_view_count": null,
            "_view_module_version": "1.5.0",
            "description_tooltip": null,
            "_model_module": "@jupyter-widgets/controls",
            "layout": "IPY_MODEL_62c26a4c891b470bb6fab4b48308ecdf"
          }
        },
        "a574c6166bb04e7592e620d00276b6de": {
          "model_module": "@jupyter-widgets/controls",
          "model_name": "ProgressStyleModel",
          "state": {
            "_view_name": "StyleView",
            "_model_name": "ProgressStyleModel",
            "description_width": "initial",
            "_view_module": "@jupyter-widgets/base",
            "_model_module_version": "1.5.0",
            "_view_count": null,
            "_view_module_version": "1.2.0",
            "bar_color": null,
            "_model_module": "@jupyter-widgets/controls"
          }
        },
        "54b08ba516e749709623c14dd8e4e87d": {
          "model_module": "@jupyter-widgets/base",
          "model_name": "LayoutModel",
          "state": {
            "_view_name": "LayoutView",
            "grid_template_rows": null,
            "right": null,
            "justify_content": null,
            "_view_module": "@jupyter-widgets/base",
            "overflow": null,
            "_model_module_version": "1.2.0",
            "_view_count": null,
            "flex_flow": null,
            "width": null,
            "min_width": null,
            "border": null,
            "align_items": null,
            "bottom": null,
            "_model_module": "@jupyter-widgets/base",
            "top": null,
            "grid_column": null,
            "overflow_y": null,
            "overflow_x": null,
            "grid_auto_flow": null,
            "grid_area": null,
            "grid_template_columns": null,
            "flex": null,
            "_model_name": "LayoutModel",
            "justify_items": null,
            "grid_row": null,
            "max_height": null,
            "align_content": null,
            "visibility": null,
            "align_self": null,
            "height": null,
            "min_height": null,
            "padding": null,
            "grid_auto_rows": null,
            "grid_gap": null,
            "max_width": null,
            "order": null,
            "_view_module_version": "1.2.0",
            "grid_template_areas": null,
            "object_position": null,
            "object_fit": null,
            "grid_auto_columns": null,
            "margin": null,
            "display": null,
            "left": null
          }
        },
        "2a76e29e3bcc402d8f98e5bbcc2ea131": {
          "model_module": "@jupyter-widgets/controls",
          "model_name": "DescriptionStyleModel",
          "state": {
            "_view_name": "StyleView",
            "_model_name": "DescriptionStyleModel",
            "description_width": "",
            "_view_module": "@jupyter-widgets/base",
            "_model_module_version": "1.5.0",
            "_view_count": null,
            "_view_module_version": "1.2.0",
            "_model_module": "@jupyter-widgets/controls"
          }
        },
        "62c26a4c891b470bb6fab4b48308ecdf": {
          "model_module": "@jupyter-widgets/base",
          "model_name": "LayoutModel",
          "state": {
            "_view_name": "LayoutView",
            "grid_template_rows": null,
            "right": null,
            "justify_content": null,
            "_view_module": "@jupyter-widgets/base",
            "overflow": null,
            "_model_module_version": "1.2.0",
            "_view_count": null,
            "flex_flow": null,
            "width": null,
            "min_width": null,
            "border": null,
            "align_items": null,
            "bottom": null,
            "_model_module": "@jupyter-widgets/base",
            "top": null,
            "grid_column": null,
            "overflow_y": null,
            "overflow_x": null,
            "grid_auto_flow": null,
            "grid_area": null,
            "grid_template_columns": null,
            "flex": null,
            "_model_name": "LayoutModel",
            "justify_items": null,
            "grid_row": null,
            "max_height": null,
            "align_content": null,
            "visibility": null,
            "align_self": null,
            "height": null,
            "min_height": null,
            "padding": null,
            "grid_auto_rows": null,
            "grid_gap": null,
            "max_width": null,
            "order": null,
            "_view_module_version": "1.2.0",
            "grid_template_areas": null,
            "object_position": null,
            "object_fit": null,
            "grid_auto_columns": null,
            "margin": null,
            "display": null,
            "left": null
          }
        }
      }
    }
  },
  "cells": [
    {
      "cell_type": "markdown",
      "metadata": {
        "id": "view-in-github",
        "colab_type": "text"
      },
      "source": [
        "<a href=\"https://colab.research.google.com/github/s00hyun/Today-I-Learned/blob/master/ML-DL/deep-learning-pytorch/lec5_main.ipynb\" target=\"_parent\"><img src=\"https://colab.research.google.com/assets/colab-badge.svg\" alt=\"Open In Colab\"/></a>"
      ]
    },
    {
      "cell_type": "code",
      "metadata": {
        "id": "C55aPdalOsSE",
        "colab_type": "code",
        "colab": {
          "base_uri": "https://localhost:8080/",
          "height": 54
        },
        "outputId": "04b4853e-829a-4047-be9e-ca1c805cd48b"
      },
      "source": [
        "from google.colab import drive\n",
        "drive.mount('/content/gdrive/')"
      ],
      "execution_count": 1,
      "outputs": [
        {
          "output_type": "stream",
          "text": [
            "Drive already mounted at /content/gdrive/; to attempt to forcibly remount, call drive.mount(\"/content/gdrive/\", force_remount=True).\n"
          ],
          "name": "stdout"
        }
      ]
    },
    {
      "cell_type": "code",
      "metadata": {
        "id": "zMpxLmyma7V5",
        "colab_type": "code",
        "colab": {
          "base_uri": "https://localhost:8080/",
          "height": 190
        },
        "outputId": "7690ded4-fd06-4776-f449-3458dd7aaec1"
      },
      "source": [
        "!pip install import_ipynb"
      ],
      "execution_count": 10,
      "outputs": [
        {
          "output_type": "stream",
          "text": [
            "Collecting import_ipynb\n",
            "  Downloading https://files.pythonhosted.org/packages/63/35/495e0021bfdcc924c7cdec4e9fbb87c88dd03b9b9b22419444dc370c8a45/import-ipynb-0.1.3.tar.gz\n",
            "Building wheels for collected packages: import-ipynb\n",
            "  Building wheel for import-ipynb (setup.py) ... \u001b[?25l\u001b[?25hdone\n",
            "  Created wheel for import-ipynb: filename=import_ipynb-0.1.3-cp36-none-any.whl size=2976 sha256=8f38dcadfb11b43f36d53955da92cb9f7260bfad07ef686887621e967223f2d9\n",
            "  Stored in directory: /root/.cache/pip/wheels/b4/7b/e9/a3a6e496115dffdb4e3085d0ae39ffe8a814eacc44bbf494b5\n",
            "Successfully built import-ipynb\n",
            "Installing collected packages: import-ipynb\n",
            "Successfully installed import-ipynb-0.1.3\n"
          ],
          "name": "stdout"
        }
      ]
    },
    {
      "cell_type": "code",
      "metadata": {
        "id": "eLv5_GvXbBDa",
        "colab_type": "code",
        "colab": {}
      },
      "source": [
        "import import_ipynb"
      ],
      "execution_count": 0,
      "outputs": []
    },
    {
      "cell_type": "code",
      "metadata": {
        "id": "JfP0ZsEpg9E7",
        "colab_type": "code",
        "colab": {
          "base_uri": "https://localhost:8080/",
          "height": 34
        },
        "outputId": "0122b403-8346-4500-d506-85b426922667"
      },
      "source": [
        "!pwd"
      ],
      "execution_count": 7,
      "outputs": [
        {
          "output_type": "stream",
          "text": [
            "/content\n"
          ],
          "name": "stdout"
        }
      ]
    },
    {
      "cell_type": "code",
      "metadata": {
        "id": "Zi7756P5Wp1J",
        "colab_type": "code",
        "colab": {
          "base_uri": "https://localhost:8080/",
          "height": 34
        },
        "outputId": "a2a8854e-27a2-411c-a1f0-c3c28ce945f6"
      },
      "source": [
        "%cd /content/gdrive/My\\ Drive/Colab\\ Notebooks/딥러닝수업"
      ],
      "execution_count": 17,
      "outputs": [
        {
          "output_type": "stream",
          "text": [
            "/content/gdrive/My Drive/Colab Notebooks/딥러닝수업\n"
          ],
          "name": "stdout"
        }
      ]
    },
    {
      "cell_type": "code",
      "metadata": {
        "id": "o4WIaB_khMaj",
        "colab_type": "code",
        "colab": {
          "base_uri": "https://localhost:8080/",
          "height": 34
        },
        "outputId": "2752fa5c-9415-419f-ab11-00358cdf6a77"
      },
      "source": [
        "!pwd"
      ],
      "execution_count": 18,
      "outputs": [
        {
          "output_type": "stream",
          "text": [
            "/content/gdrive/My Drive/Colab Notebooks/딥러닝수업\n"
          ],
          "name": "stdout"
        }
      ]
    },
    {
      "cell_type": "code",
      "metadata": {
        "id": "YrZGaBMlgrCW",
        "colab_type": "code",
        "colab": {
          "base_uri": "https://localhost:8080/",
          "height": 34
        },
        "outputId": "7f426c33-c4a3-47f7-ace7-0a6ae7111061"
      },
      "source": [
        "!ls -l lec5_model.ipynb"
      ],
      "execution_count": 19,
      "outputs": [
        {
          "output_type": "stream",
          "text": [
            "-rw------- 1 root root 5687 Apr 14 06:35 lec5_model.ipynb\n"
          ],
          "name": "stdout"
        }
      ]
    },
    {
      "cell_type": "code",
      "metadata": {
        "id": "0Eei7ITJWzJ7",
        "colab_type": "code",
        "colab": {}
      },
      "source": [
        "import torch, torchvision\n",
        "import torch.nn as nn\n",
        "import torchvision.transforms as transforms"
      ],
      "execution_count": 0,
      "outputs": []
    },
    {
      "cell_type": "code",
      "metadata": {
        "id": "4JtCpxm5W-UH",
        "colab_type": "code",
        "colab": {
          "base_uri": "https://localhost:8080/",
          "height": 34
        },
        "outputId": "96dba085-6802-4aee-f697-68dd2ad7ecd0"
      },
      "source": [
        "device = \"cuda:0\" if torch.cuda.is_available() else \"cpu\"\n",
        "print(\"current device:\", device)"
      ],
      "execution_count": 23,
      "outputs": [
        {
          "output_type": "stream",
          "text": [
            "current device: cuda:0\n"
          ],
          "name": "stdout"
        }
      ]
    },
    {
      "cell_type": "code",
      "metadata": {
        "id": "DLm_bP4bX3hj",
        "colab_type": "code",
        "colab": {}
      },
      "source": [
        "num_epochs, num_classes, batch_size, learning_rate = 10, 10, 16, 0.01"
      ],
      "execution_count": 0,
      "outputs": []
    },
    {
      "cell_type": "code",
      "metadata": {
        "id": "vY0SOzAhYA1S",
        "colab_type": "code",
        "colab": {}
      },
      "source": [
        "from lec5_model import ConvNet, AlexNet, VGGNet"
      ],
      "execution_count": 0,
      "outputs": []
    },
    {
      "cell_type": "code",
      "metadata": {
        "id": "coa7M-XdiGIf",
        "colab_type": "code",
        "colab": {}
      },
      "source": [
        "network = 'simple-cnn'  # simple-cnn, alexnet, vgg-16"
      ],
      "execution_count": 0,
      "outputs": []
    },
    {
      "cell_type": "code",
      "metadata": {
        "id": "fkC8ONBbiWj2",
        "colab_type": "code",
        "colab": {}
      },
      "source": [
        "if network == 'simple-cnn':\n",
        "  model = ConvNet().to(device)\n",
        "  composed_transforms = transforms.Compose([transforms.Resize((32, 32)),  # 해당 네트워크에 맞게 input size 조정\n",
        "                                            # 텐서 Type으로 변환\n",
        "                                            # Type: PIL -> torch.Tensor\n",
        "                                            # Pixel value: [0, 255] -> [0, 1]\n",
        "                                            transforms.ToTensor(),   \n",
        "                                            # (R채널 Mean, G채널 Mean, B채널 Mean), (R채널 Std, G채널 Std, B채널 Std)\n",
        "                                            # Pixel value를 [0, 1]에서 [-1, 1]로 변환함\n",
        "                                            transforms.Normalize((0.5, 0.5, 0.5), (0.5, 0.5, 0.5))])\n",
        "elif network == 'alexnet':\n",
        "  model = AlexNet(num_classes=num_classes).to(device)\n",
        "  composed_transforms = transforms.Compose([transforms.Resize((224, 224)),\n",
        "                                            transforms.ToTensor(),\n",
        "                                            transforms.Normalize((0.5, 0.5, 0.5), (0.5, 0.5, 0.5))])\n",
        "elif network == 'vgg-16':\n",
        "  model = VGGNet(num_classes=num_classes).to(device)\n",
        "  composed_transforms = transforms.Compose([transforms.Resize((224, 224)),\n",
        "                                            transforms.ToTensor(),\n",
        "                                            transforms.Normalize((0.5, 0.5, 0.5), (0.5, 0.5, 0.5))])\n"
      ],
      "execution_count": 0,
      "outputs": []
    },
    {
      "cell_type": "code",
      "metadata": {
        "id": "1DzvLo2ZjnE6",
        "colab_type": "code",
        "colab": {
          "base_uri": "https://localhost:8080/",
          "height": 238
        },
        "outputId": "3e490919-d865-4d72-f595-9ce3fa5b4c2f"
      },
      "source": [
        "print(model)"
      ],
      "execution_count": 27,
      "outputs": [
        {
          "output_type": "stream",
          "text": [
            "ConvNet(\n",
            "  (layer1): Sequential(\n",
            "    (0): Conv2d(3, 16, kernel_size=(5, 5), stride=(1, 1), padding=(2, 2))\n",
            "    (1): ReLU()\n",
            "    (2): MaxPool2d(kernel_size=2, stride=2, padding=0, dilation=1, ceil_mode=False)\n",
            "  )\n",
            "  (layer2): Sequential(\n",
            "    (0): Conv2d(16, 32, kernel_size=(5, 5), stride=(1, 1), padding=(2, 2))\n",
            "    (1): ReLU()\n",
            "    (2): MaxPool2d(kernel_size=2, stride=2, padding=0, dilation=1, ceil_mode=False)\n",
            "  )\n",
            "  (fc): Linear(in_features=2048, out_features=10, bias=True)\n",
            ")\n"
          ],
          "name": "stdout"
        }
      ]
    },
    {
      "cell_type": "code",
      "metadata": {
        "id": "ExY-NGWij7zq",
        "colab_type": "code",
        "colab": {
          "base_uri": "https://localhost:8080/",
          "height": 83,
          "referenced_widgets": [
            "8a8c1a2cf83d4e04816eb6b6983bc1bc",
            "c1f6db9ef18041bd922c31a8ead90f67",
            "c3a834307f1a42a29eeaaca2f1345140",
            "35e22d5dc73e41ca93a720a955ae02be",
            "a574c6166bb04e7592e620d00276b6de",
            "54b08ba516e749709623c14dd8e4e87d",
            "2a76e29e3bcc402d8f98e5bbcc2ea131",
            "62c26a4c891b470bb6fab4b48308ecdf"
          ]
        },
        "outputId": "3d79b953-0cb8-4578-c0e4-1450f8ddf360"
      },
      "source": [
        "train_dataset = torchvision.datasets.CIFAR10(root='./data', train=True, transform=composed_transforms, download=True)\n",
        "train_loader = torch.utils.data.DataLoader(dataset=train_dataset, batch_size=batch_size, shuffle=True)\n",
        "\n",
        "test_dataset = torchvision.datasets.CIFAR10(root='./data', train=False, transform=composed_transforms)\n",
        "test_loader = torch.utils.data.DataLoader(dataset=test_dataset, batch_size=1, shuffle=False)"
      ],
      "execution_count": 30,
      "outputs": [
        {
          "output_type": "stream",
          "text": [
            "Downloading https://www.cs.toronto.edu/~kriz/cifar-10-python.tar.gz to ./data/cifar-10-python.tar.gz\n"
          ],
          "name": "stdout"
        },
        {
          "output_type": "display_data",
          "data": {
            "application/vnd.jupyter.widget-view+json": {
              "model_id": "8a8c1a2cf83d4e04816eb6b6983bc1bc",
              "version_minor": 0,
              "version_major": 2
            },
            "text/plain": [
              "HBox(children=(IntProgress(value=1, bar_style='info', max=1), HTML(value='')))"
            ]
          },
          "metadata": {
            "tags": []
          }
        },
        {
          "output_type": "stream",
          "text": [
            "Extracting ./data/cifar-10-python.tar.gz to ./data\n"
          ],
          "name": "stdout"
        }
      ]
    },
    {
      "cell_type": "code",
      "metadata": {
        "id": "ZwwzFAnXk2ql",
        "colab_type": "code",
        "colab": {}
      },
      "source": [
        "criterion = nn.CrossEntropyLoss()\n",
        "optimizer = torch.optim.SGD(model.parameters(), lr=learning_rate, momentum=0.9)"
      ],
      "execution_count": 0,
      "outputs": []
    },
    {
      "cell_type": "code",
      "metadata": {
        "id": "fEwCRqcvlHTf",
        "colab_type": "code",
        "colab": {
          "base_uri": "https://localhost:8080/",
          "height": 527
        },
        "outputId": "032dd6b2-ba7f-4d28-8ccc-c9cff75887d9"
      },
      "source": [
        "# 모델에 학습 데이터를 입력 -> 예측 레이블 산출, 정답 레이블과 비교 -> 모델의 파라미터 값 업데이트\n",
        "\n",
        "for epoch in range(num_epochs):\n",
        "  # 각 data batch에 대해 학습\n",
        "  # (image, labels): (입력 이미지, 정답 레이블)\n",
        "  for i, (images, labels) in enumerate(train_loader):\n",
        "    # to(device): 연산 수행 디바이스 설정\n",
        "    # images, labels, model간 연산을 위해.\n",
        "    images = images.to(device)  \n",
        "    labels = labels.to(device)\n",
        "\n",
        "    outputs = model(images)\n",
        "    loss = criterion(outputs, labels)\n",
        "    \n",
        "    optimizer.zero_grad()\n",
        "    loss.backward()\n",
        "    optimizer.step()\n",
        "\n",
        "    _, predicted = torch.max(outputs.data, 1)\n",
        "    correct = (predicted == labels).sum().item()\n",
        "\n",
        "    if (i + 1) % 1000 == 0:\n",
        "      print('Epoch: {}/{}, Batch Step: {}/{}, Loss: {:.4f}, Training Accuracy of the Current Batch: {}%'.\n",
        "            format(epoch + 1, num_epochs, i + 1, train_loader.__len__(), loss.item(), 100 * correct / batch_size))\n"
      ],
      "execution_count": 33,
      "outputs": [
        {
          "output_type": "stream",
          "text": [
            "Epoch: 1/10, Batch Step: 1000/3125, Loss: 2.1762, Training Accuracy of the Current Batch: 25.0%\n",
            "Epoch: 1/10, Batch Step: 2000/3125, Loss: 2.1371, Training Accuracy of the Current Batch: 31.25%\n",
            "Epoch: 1/10, Batch Step: 3000/3125, Loss: 1.9024, Training Accuracy of the Current Batch: 56.25%\n",
            "Epoch: 2/10, Batch Step: 1000/3125, Loss: 1.9981, Training Accuracy of the Current Batch: 43.75%\n",
            "Epoch: 2/10, Batch Step: 2000/3125, Loss: 2.0277, Training Accuracy of the Current Batch: 43.75%\n",
            "Epoch: 2/10, Batch Step: 3000/3125, Loss: 2.1503, Training Accuracy of the Current Batch: 31.25%\n",
            "Epoch: 3/10, Batch Step: 1000/3125, Loss: 2.0716, Training Accuracy of the Current Batch: 37.5%\n",
            "Epoch: 3/10, Batch Step: 2000/3125, Loss: 1.9298, Training Accuracy of the Current Batch: 56.25%\n",
            "Epoch: 3/10, Batch Step: 3000/3125, Loss: 2.2106, Training Accuracy of the Current Batch: 25.0%\n",
            "Epoch: 4/10, Batch Step: 1000/3125, Loss: 2.1486, Training Accuracy of the Current Batch: 31.25%\n",
            "Epoch: 4/10, Batch Step: 2000/3125, Loss: 2.2110, Training Accuracy of the Current Batch: 25.0%\n",
            "Epoch: 4/10, Batch Step: 3000/3125, Loss: 1.9619, Training Accuracy of the Current Batch: 50.0%\n",
            "Epoch: 5/10, Batch Step: 1000/3125, Loss: 2.0884, Training Accuracy of the Current Batch: 37.5%\n",
            "Epoch: 5/10, Batch Step: 2000/3125, Loss: 2.2084, Training Accuracy of the Current Batch: 25.0%\n",
            "Epoch: 5/10, Batch Step: 3000/3125, Loss: 2.1486, Training Accuracy of the Current Batch: 31.25%\n",
            "Epoch: 6/10, Batch Step: 1000/3125, Loss: 2.0859, Training Accuracy of the Current Batch: 37.5%\n",
            "Epoch: 6/10, Batch Step: 2000/3125, Loss: 2.1486, Training Accuracy of the Current Batch: 31.25%\n",
            "Epoch: 6/10, Batch Step: 3000/3125, Loss: 1.9582, Training Accuracy of the Current Batch: 50.0%\n",
            "Epoch: 7/10, Batch Step: 1000/3125, Loss: 2.2112, Training Accuracy of the Current Batch: 25.0%\n",
            "Epoch: 7/10, Batch Step: 2000/3125, Loss: 2.1487, Training Accuracy of the Current Batch: 31.25%\n",
            "Epoch: 7/10, Batch Step: 3000/3125, Loss: 2.0862, Training Accuracy of the Current Batch: 37.5%\n",
            "Epoch: 8/10, Batch Step: 1000/3125, Loss: 2.2089, Training Accuracy of the Current Batch: 25.0%\n",
            "Epoch: 8/10, Batch Step: 2000/3125, Loss: 1.9612, Training Accuracy of the Current Batch: 50.0%\n",
            "Epoch: 8/10, Batch Step: 3000/3125, Loss: 2.0862, Training Accuracy of the Current Batch: 37.5%\n",
            "Epoch: 9/10, Batch Step: 1000/3125, Loss: 2.2628, Training Accuracy of the Current Batch: 18.75%\n",
            "Epoch: 9/10, Batch Step: 2000/3125, Loss: 2.1125, Training Accuracy of the Current Batch: 37.5%\n",
            "Epoch: 9/10, Batch Step: 3000/3125, Loss: 2.1487, Training Accuracy of the Current Batch: 31.25%\n",
            "Epoch: 10/10, Batch Step: 1000/3125, Loss: 1.8362, Training Accuracy of the Current Batch: 62.5%\n",
            "Epoch: 10/10, Batch Step: 2000/3125, Loss: 2.2112, Training Accuracy of the Current Batch: 25.0%\n",
            "Epoch: 10/10, Batch Step: 3000/3125, Loss: 1.8987, Training Accuracy of the Current Batch: 56.25%\n"
          ],
          "name": "stdout"
        }
      ]
    },
    {
      "cell_type": "code",
      "metadata": {
        "id": "s_6zPh3HmuIn",
        "colab_type": "code",
        "colab": {
          "base_uri": "https://localhost:8080/",
          "height": 34
        },
        "outputId": "10f144c1-b631-4ade-d783-b0006dd81e60"
      },
      "source": [
        "model.eval()  # 모델 평가 모드로 변경 (모델 변수 고정 등)\n",
        "with torch.no_grad():  # 테스트 과정에서 gradient 계산 배제\n",
        "  total, correct = 0, 0\n",
        "  for images, labels in test_loader:\n",
        "    images = images.to(device)\n",
        "    labels = labels.to(device)\n",
        "    outputs = model(images)\n",
        "    _, predicted = torch.max(outputs.data, 1)\n",
        "    total += labels.size(0)\n",
        "    correct += (predicted == labels).sum().item()\n",
        "  print('Test Accuracy of the 10,000 Test Images: {}%'.format(100 * correct / total))"
      ],
      "execution_count": 34,
      "outputs": [
        {
          "output_type": "stream",
          "text": [
            "Test Accuracy of the 10,000 Test Images: 40.37%\n"
          ],
          "name": "stdout"
        }
      ]
    }
  ]
}