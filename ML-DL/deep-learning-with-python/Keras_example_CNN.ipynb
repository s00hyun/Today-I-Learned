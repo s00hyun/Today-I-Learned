{
 "cells": [
  {
   "cell_type": "markdown",
   "metadata": {
    "colab_type": "text",
    "id": "6sWGuWEl7-CR"
   },
   "source": [
    "# 합성곱 신경망 \n",
    "\n",
    "* ConvNet의 정의\n",
    "* ConvNet이 컴퓨터 비전 관련 작업에 잘 맞는 이유\n"
   ]
  },
  {
   "cell_type": "code",
   "execution_count": 0,
   "metadata": {
    "colab": {
     "base_uri": "https://localhost:8080/",
     "height": 190
    },
    "colab_type": "code",
    "executionInfo": {
     "elapsed": 2657,
     "status": "ok",
     "timestamp": 1568015073134,
     "user": {
      "displayName": "최수현",
      "photoUrl": "",
      "userId": "02995321275424288841"
     },
     "user_tz": -540
    },
    "id": "Q3oiMRId8TPX",
    "outputId": "5d75cf8b-510b-4b41-c8ba-c34c2962ac78"
   },
   "outputs": [
    {
     "name": "stderr",
     "output_type": "stream",
     "text": [
      "Using TensorFlow backend.\n"
     ]
    },
    {
     "name": "stdout",
     "output_type": "stream",
     "text": [
      "WARNING:tensorflow:From /usr/local/lib/python3.6/dist-packages/keras/backend/tensorflow_backend.py:66: The name tf.get_default_graph is deprecated. Please use tf.compat.v1.get_default_graph instead.\n",
      "\n",
      "WARNING:tensorflow:From /usr/local/lib/python3.6/dist-packages/keras/backend/tensorflow_backend.py:541: The name tf.placeholder is deprecated. Please use tf.compat.v1.placeholder instead.\n",
      "\n",
      "WARNING:tensorflow:From /usr/local/lib/python3.6/dist-packages/keras/backend/tensorflow_backend.py:4432: The name tf.random_uniform is deprecated. Please use tf.random.uniform instead.\n",
      "\n",
      "WARNING:tensorflow:From /usr/local/lib/python3.6/dist-packages/keras/backend/tensorflow_backend.py:4267: The name tf.nn.max_pool is deprecated. Please use tf.nn.max_pool2d instead.\n",
      "\n"
     ]
    }
   ],
   "source": [
    "### 간단한 ConvNet 만들기\n",
    "\n",
    "\n",
    "from keras import layers\n",
    "from keras import models\n",
    "\n",
    "model = models.Sequential()\n",
    "\n",
    "# MNIST image format: (heigth, width, channels) = ( 28, 28, 1(grayscale) )\n",
    "# input_shape = (image_height, image_width, image_channels)\n",
    "\n",
    "# Conv2D(output_depth, (window_height, window_width))\n",
    "# output_depth: 합성곱으로 계산할 필터의 수\n",
    "# (window_height, window_width): 입력으로부터 뽑아낼 패치의 크기. 주로 3x3 또는 5x5 사용.\n",
    "\n",
    "# 최대 풀링(max pooling): 보통 2x2 윈도우와 스트라이드(패치 이동 간격) 1을 이용해 특성 맵을 절반 크기로 다운샘플링한다.\n",
    "# 입력 특성 맵에서 윈도우에 맞는 패치를 추출하고, 각 채널별로 최댓값을 출력하는 것이다.\n",
    "# 처리할 특성 맵의 가중치 개수를 줄이기 위한 다운샘플링 방법으로 많이 사용된다.\n",
    "# 최대 풀링 방법은 단순히 윈도우를 듬성듬성하게 슬라이딩하거나 평균을 취하는 것이 아니라 채널별 최댓값을 출력하므로, 다른 방법들보다 다운샘플링에 효과적이다.\n",
    "\n",
    "model.add(layers.Conv2D(32, (3, 3), activation='relu', input_shape=(28, 28, 1)))\n",
    "model.add(layers.MaxPooling2D((2, 2)))\n",
    "model.add(layers.Conv2D(64, (3, 3), activation='relu'))\n",
    "model.add(layers.MaxPooling2D((2, 2)))\n",
    "model.add(layers.Conv2D(64, (3, 3), activation='relu'))"
   ]
  },
  {
   "cell_type": "code",
   "execution_count": 0,
   "metadata": {
    "colab": {
     "base_uri": "https://localhost:8080/",
     "height": 323
    },
    "colab_type": "code",
    "executionInfo": {
     "elapsed": 2651,
     "status": "ok",
     "timestamp": 1568015073135,
     "user": {
      "displayName": "최수현",
      "photoUrl": "",
      "userId": "02995321275424288841"
     },
     "user_tz": -540
    },
    "id": "0ekBfVOP852I",
    "outputId": "193beeb3-d0ef-40c4-ec9c-4aa4929631ce"
   },
   "outputs": [
    {
     "name": "stdout",
     "output_type": "stream",
     "text": [
      "Model: \"sequential_1\"\n",
      "_________________________________________________________________\n",
      "Layer (type)                 Output Shape              Param #   \n",
      "=================================================================\n",
      "conv2d_1 (Conv2D)            (None, 26, 26, 32)        320       \n",
      "_________________________________________________________________\n",
      "max_pooling2d_1 (MaxPooling2 (None, 13, 13, 32)        0         \n",
      "_________________________________________________________________\n",
      "conv2d_2 (Conv2D)            (None, 11, 11, 64)        18496     \n",
      "_________________________________________________________________\n",
      "max_pooling2d_2 (MaxPooling2 (None, 5, 5, 64)          0         \n",
      "_________________________________________________________________\n",
      "conv2d_3 (Conv2D)            (None, 3, 3, 64)          36928     \n",
      "=================================================================\n",
      "Total params: 55,744\n",
      "Trainable params: 55,744\n",
      "Non-trainable params: 0\n",
      "_________________________________________________________________\n"
     ]
    }
   ],
   "source": [
    "# Conv2D와 MaxPooling2D 층의 출력은, (height, width, channels) 크기의 3D 텐서이다.\n",
    "# 높이와 너비 차원은 네트워크가 깊어질수록 작아지는 경향이 있다.\n",
    "# 채널의 수는, Conv2D 층에 전달된 첫 번째 매개변수에 의해 조절된다. (32개 또는 64개)\n",
    "\n",
    "model.summary()"
   ]
  },
  {
   "cell_type": "code",
   "execution_count": 0,
   "metadata": {
    "colab": {},
    "colab_type": "code",
    "id": "H-WwOFR493u1"
   },
   "outputs": [],
   "source": [
    "### ConvNet 위에 분류기 추가하기\n",
    "\n",
    "\n",
    "# 마지막 층의 출력 텐서(3, 3, 64)를 완전 연결 네트워크(Dense 층을 쌓은 분류기)에 주입한다.\n",
    "# 이 분류기는 1D 벡터를 처리하므로, 3D 출력을 1D 텐서로 펼쳐야 한다.\n",
    "# 그 다음, 몇 개의 Dense 층을 추가한다.\n",
    "\n",
    "model.add(layers.Flatten())\n",
    "model.add(layers.Dense(64, activation='relu'))\n",
    "# 10개의 클래스(숫자 0~9)를 분류하기 위해, 마지막 층의 출력 크기를 10으로 하고, softmax 활성화 함수를 사용한다.\n",
    "model.add(layers.Dense(10, activation='softmax'))"
   ]
  },
  {
   "cell_type": "code",
   "execution_count": 0,
   "metadata": {
    "colab": {
     "base_uri": "https://localhost:8080/",
     "height": 425
    },
    "colab_type": "code",
    "executionInfo": {
     "elapsed": 1038,
     "status": "ok",
     "timestamp": 1568015085587,
     "user": {
      "displayName": "최수현",
      "photoUrl": "",
      "userId": "02995321275424288841"
     },
     "user_tz": -540
    },
    "id": "WlUW2LPh-1XC",
    "outputId": "15221e8c-058f-442d-a0a6-b69567e0f5fb"
   },
   "outputs": [
    {
     "name": "stdout",
     "output_type": "stream",
     "text": [
      "Model: \"sequential_1\"\n",
      "_________________________________________________________________\n",
      "Layer (type)                 Output Shape              Param #   \n",
      "=================================================================\n",
      "conv2d_1 (Conv2D)            (None, 26, 26, 32)        320       \n",
      "_________________________________________________________________\n",
      "max_pooling2d_1 (MaxPooling2 (None, 13, 13, 32)        0         \n",
      "_________________________________________________________________\n",
      "conv2d_2 (Conv2D)            (None, 11, 11, 64)        18496     \n",
      "_________________________________________________________________\n",
      "max_pooling2d_2 (MaxPooling2 (None, 5, 5, 64)          0         \n",
      "_________________________________________________________________\n",
      "conv2d_3 (Conv2D)            (None, 3, 3, 64)          36928     \n",
      "_________________________________________________________________\n",
      "flatten_1 (Flatten)          (None, 576)               0         \n",
      "_________________________________________________________________\n",
      "dense_1 (Dense)              (None, 64)                36928     \n",
      "_________________________________________________________________\n",
      "dense_2 (Dense)              (None, 10)                650       \n",
      "=================================================================\n",
      "Total params: 93,322\n",
      "Trainable params: 93,322\n",
      "Non-trainable params: 0\n",
      "_________________________________________________________________\n"
     ]
    }
   ],
   "source": [
    "model.summary()"
   ]
  },
  {
   "cell_type": "code",
   "execution_count": 0,
   "metadata": {
    "colab": {
     "base_uri": "https://localhost:8080/",
     "height": 411
    },
    "colab_type": "code",
    "executionInfo": {
     "elapsed": 263778,
     "status": "ok",
     "timestamp": 1568016736458,
     "user": {
      "displayName": "최수현",
      "photoUrl": "",
      "userId": "02995321275424288841"
     },
     "user_tz": -540
    },
    "id": "rr9dfV16_ipQ",
    "outputId": "4bc671f0-5cbb-4040-86b8-59da21ca526a"
   },
   "outputs": [
    {
     "name": "stdout",
     "output_type": "stream",
     "text": [
      "Downloading data from https://s3.amazonaws.com/img-datasets/mnist.npz\n",
      "11493376/11490434 [==============================] - 0s 0us/step\n",
      "WARNING:tensorflow:From /usr/local/lib/python3.6/dist-packages/keras/optimizers.py:793: The name tf.train.Optimizer is deprecated. Please use tf.compat.v1.train.Optimizer instead.\n",
      "\n",
      "WARNING:tensorflow:From /usr/local/lib/python3.6/dist-packages/keras/backend/tensorflow_backend.py:3576: The name tf.log is deprecated. Please use tf.math.log instead.\n",
      "\n",
      "WARNING:tensorflow:From /usr/local/lib/python3.6/dist-packages/tensorflow/python/ops/math_grad.py:1250: add_dispatch_support.<locals>.wrapper (from tensorflow.python.ops.array_ops) is deprecated and will be removed in a future version.\n",
      "Instructions for updating:\n",
      "Use tf.where in 2.0, which has the same broadcast rule as np.where\n",
      "WARNING:tensorflow:From /usr/local/lib/python3.6/dist-packages/keras/backend/tensorflow_backend.py:1033: The name tf.assign_add is deprecated. Please use tf.compat.v1.assign_add instead.\n",
      "\n",
      "Epoch 1/5\n",
      "60000/60000 [==============================] - 53s 889us/step - loss: 0.2152 - acc: 0.9338\n",
      "Epoch 2/5\n",
      "60000/60000 [==============================] - 52s 875us/step - loss: 0.0619 - acc: 0.9815\n",
      "Epoch 3/5\n",
      "60000/60000 [==============================] - 53s 876us/step - loss: 0.0437 - acc: 0.9868\n",
      "Epoch 4/5\n",
      "60000/60000 [==============================] - 52s 863us/step - loss: 0.0348 - acc: 0.9904\n",
      "Epoch 5/5\n",
      "60000/60000 [==============================] - 52s 866us/step - loss: 0.0300 - acc: 0.9920\n"
     ]
    },
    {
     "data": {
      "text/plain": [
       "<keras.callbacks.History at 0x7fd98068d978>"
      ]
     },
     "execution_count": 5,
     "metadata": {
      "tags": []
     },
     "output_type": "execute_result"
    }
   ],
   "source": [
    "### MNIST 이미지에 ConvNet 훈련하기\n",
    "\n",
    "\n",
    "from keras.datasets import mnist\n",
    "from keras.utils import to_categorical\n",
    "\n",
    "(train_images, train_labels), (test_images, test_labels) = mnist.load_data()\n",
    "train_images = train_images.reshape((60000, 28, 28, 1))  # 6만 개의 train data\n",
    "train_images = train_images.astype('float32') / 255  # [0, 255] 사이의 값을 0과 1 사이의 값으로~\n",
    "\n",
    "test_images = test_images.reshape((10000, 28, 28, 1))  # 1만 개의 test data\n",
    "test_images = test_images.astype('float32') / 255\n",
    "\n",
    "train_labels = to_categorical(train_labels)  # 레이블을 범주형으로 인코딩 (one-hot encoding)\n",
    "test_labels = to_categorical(test_labels)\n",
    "\n",
    "model.compile(optimizer='rmsprop', loss='categorical_crossentropy', metrics=['accuracy'])\n",
    "model.fit(train_images, train_labels, epochs=5, batch_size=64)\n"
   ]
  },
  {
   "cell_type": "code",
   "execution_count": 0,
   "metadata": {
    "colab": {
     "base_uri": "https://localhost:8080/",
     "height": 51
    },
    "colab_type": "code",
    "executionInfo": {
     "elapsed": 3227,
     "status": "ok",
     "timestamp": 1568016802704,
     "user": {
      "displayName": "최수현",
      "photoUrl": "",
      "userId": "02995321275424288841"
     },
     "user_tz": -540
    },
    "id": "OZozuP3uFUCA",
    "outputId": "f75e1c91-47fc-454e-f2a1-c79e583c3e25"
   },
   "outputs": [
    {
     "name": "stdout",
     "output_type": "stream",
     "text": [
      "10000/10000 [==============================] - 3s 267us/step\n",
      "0.9879\n"
     ]
    }
   ],
   "source": [
    "test_loss, test_acc = model.evaluate(test_images, test_labels)\n",
    "print(test_acc)"
   ]
  },
  {
   "cell_type": "markdown",
   "metadata": {
    "colab_type": "text",
    "id": "zgT-FH32GzLX"
   },
   "source": [
    "## 완전 연결 층(Dense 층)과 합성곱 층의 근본적인 차이\n",
    "* Dense 층은 입력 특성 공간에 있는 전역 패턴(ex. 숫자 이미지의 모든 픽셀에 걸친 패턴)을 학습한다.\n",
    "* 그러나, 합성곱 층은 지역 패턴을 학습한다.\n",
    "  * 이미지일 경우, 작은 2D window로 입력에서 패턴을 찾는다.\n",
    "  * 이 예제에서 윈도우는 모두 3x3 크기\n",
    "  \n",
    "  \n",
    "## ConvNet의 성질\n",
    "1. 학습된 패턴은 평행 이동 불변성(translation invariant)을 가진다.\n",
    "  * convNet이 이미지의 특정 위치에서 학습한 패턴은 이미지의 다른 위치에서도 인식될 수 있다.\n",
    "  * **효율적인 이미지 처리가 가능**\n",
    "  \n",
    "2. ConvNet은 패턴의 공간적 계층 구조를 학습할 수 있다.\n",
    "  * 첫 번째 ConvNet 층이 edge같은 작은 지역 패턴을 학습하고,\n",
    "  * 두 번째 ConvNet 층은 첫 번째 층의 특성으로 구성된 더 큰 패턴을 학습하고, \n",
    "  * ...\n",
    "  * **매우 복잡하고 추상적인 시각적 개념을 효과적으로 학습 가능**"
   ]
  },
  {
   "cell_type": "markdown",
   "metadata": {
    "colab_type": "text",
    "id": "degiWYY4IkLf"
   },
   "source": [
    "## 합성곱 연산의 원리\n",
    "\n",
    "* 합성곱 연산은 **특성 맵(feature map)**이라는 3D 텐서에 적용된다.\n",
    "  * (높이, 너비, 깊이)\n",
    "  * RGB 이미지 -> 3개의 컬러 채널 -> 깊이=3(차원)\n",
    "  * 흑백 이미지 -> 깊이=1(차원)\n",
    "  \n",
    "* 합성곱 연산은 \n",
    "  * 입력 특성 맵에서 작은 패치(patch)들을 추출하고, \n",
    "    * ex. 입력 특성 맵 (28, 28, 1)\n",
    "  * 모든 패치에 각각 같은 변환을 적용하여 \n",
    "  * **출력 특성 맵(output feature map)**을 만든다.\n",
    "    * ex. 출력 특성 맵 (26, 26, 32)\n",
    "  \n",
    "* 출력 특성 맵도 (높이, 너비, 깊이)의 3D 텐서이다.\n",
    "  * 그러나, 출력 텐서의 깊이는 층의 매개변수에 의해 결정되므로, 상황에 따라 다르다.\n",
    "  * **출력 텐서의 깊이**는 RGB 입력과 같은 특정 컬러가 아니라, 일종의 **필터(filter)**를 의미한다.\n",
    "    * ex. 입력에 대해 32개의 필터를 적용\n",
    "    * 32개의 필터 각각은, 입력에 대한 필터의 응답 맵(response map)으로 26x26 크기의 배열 값을 가진다.\n",
    "    * 이는, 입력의 각 위치에서 필터 패턴에 대한 응답을 나타낸다.\n",
    "\n",
    "* 필터는 입력 데이터의 어떤 특성을 인코딩한다.\n",
    "  * ex. 하나의 필터가 '입력에 얼굴이 있는지'를 인코딩\n",
    " "
   ]
  }
 ],
 "metadata": {
  "colab": {
   "collapsed_sections": [],
   "name": "Keras_example_CNN.ipynb",
   "provenance": [],
   "version": "0.3.2"
  },
  "kernelspec": {
   "display_name": "Python 3",
   "language": "python",
   "name": "python3"
  },
  "language_info": {
   "codemirror_mode": {
    "name": "ipython",
    "version": 3
   },
   "file_extension": ".py",
   "mimetype": "text/x-python",
   "name": "python",
   "nbconvert_exporter": "python",
   "pygments_lexer": "ipython3",
   "version": "3.7.4"
  }
 },
 "nbformat": 4,
 "nbformat_minor": 1
}
