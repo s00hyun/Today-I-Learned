{
 "cells": [
  {
   "cell_type": "code",
   "execution_count": 1,
   "metadata": {},
   "outputs": [],
   "source": [
    "import tensorflow as tf"
   ]
  },
  {
   "cell_type": "code",
   "execution_count": 3,
   "metadata": {},
   "outputs": [],
   "source": [
    "x_data = [[1, 2], [2, 3], [3, 1], [4, 3], [5, 3], [6, 2]]\n",
    "# binary classification\n",
    "# 0: fail, 1: pass\n",
    "y_data = [[0], [0], [0], [1], [1], [1]]\n",
    "\n",
    "X = tf.placeholder(tf.float32, shape=[None, 2])\n",
    "Y = tf.placeholder(tf.float32, shape=[None, 1])\n",
    "W = tf.Variable(tf.random_normal([2, 1]), name='weight')\n",
    "b = tf.Variable(tf.random_normal([1]), name='bias')"
   ]
  },
  {
   "cell_type": "code",
   "execution_count": 4,
   "metadata": {},
   "outputs": [],
   "source": [
    "# Hypothesis using sigmoid: tf.div(1., 1. + tf.exp(tf.matmul(X, W) + b))\n",
    "# Hypothesis ranges from 0 to 1. \n",
    "hypothesis = tf.sigmoid(tf.matmul(X, W) + b)\n",
    "cost = -tf.reduce_mean(Y * tf.log(hypothesis) + (1 - Y) * tf.log(1 - hypothesis))\n",
    "train = tf.train.GradientDescentOptimizer(learning_rate=0.01).minimize(cost)"
   ]
  },
  {
   "cell_type": "code",
   "execution_count": 5,
   "metadata": {},
   "outputs": [],
   "source": [
    "# Accuracy computation\n",
    "# True if hypothesis>0.5 else False\n",
    "predicted = tf.cast(hypothesis > 0.5, dtype=tf.float32)  # float32로 casting하므로 0 또는 1이 됨\n",
    "accuracy = tf.reduce_mean(tf.cast(tf.equal(predicted, Y), dtype=tf.float32))  # predicted == Y인지"
   ]
  },
  {
   "cell_type": "code",
   "execution_count": 8,
   "metadata": {},
   "outputs": [
    {
     "name": "stdout",
     "output_type": "stream",
     "text": [
      "0 0.4827408\n",
      "200 0.364588\n",
      "400 0.35142076\n",
      "600 0.33952054\n",
      "800 0.32862\n",
      "1000 0.31852487\n",
      "1200 0.3090956\n",
      "1400 0.30023208\n",
      "1600 0.29186198\n",
      "1800 0.28393134\n",
      "2000 0.2763986\n",
      "2200 0.2692308\n",
      "2400 0.26240063\n",
      "2600 0.2558846\n",
      "2800 0.24966234\n",
      "3000 0.2437154\n",
      "3200 0.23802727\n",
      "3400 0.23258261\n",
      "3600 0.22736748\n",
      "3800 0.22236879\n",
      "4000 0.21757446\n",
      "4200 0.21297328\n",
      "4400 0.20855464\n",
      "4600 0.20430851\n",
      "4800 0.20022607\n",
      "5000 0.19629847\n",
      "5200 0.19251747\n",
      "5400 0.18887585\n",
      "5600 0.18536635\n",
      "5800 0.1819823\n",
      "6000 0.17871745\n",
      "6200 0.17556591\n",
      "6400 0.17252214\n",
      "6600 0.169581\n",
      "6800 0.16673775\n",
      "7000 0.16398747\n",
      "7200 0.16132607\n",
      "7400 0.15874937\n",
      "7600 0.15625355\n",
      "7800 0.15383501\n",
      "8000 0.15149036\n",
      "8200 0.1492163\n",
      "8400 0.14700979\n",
      "8600 0.14486788\n",
      "8800 0.14278801\n",
      "9000 0.14076741\n",
      "9200 0.13880374\n",
      "9400 0.13689463\n",
      "9600 0.13503797\n",
      "9800 0.13323155\n",
      "10000 0.13147339\n",
      "\n",
      "Hypothesis:\n",
      " [[0.02353979]\n",
      " [0.1477612 ]\n",
      " [0.26830485]\n",
      " [0.79862374]\n",
      " [0.9499177 ]\n",
      " [0.98369294]] \n",
      "Correct (Y):\n",
      " [[0.]\n",
      " [0.]\n",
      " [0.]\n",
      " [1.]\n",
      " [1.]\n",
      " [1.]] \n",
      "Accuracy:\n",
      " 1.0\n"
     ]
    }
   ],
   "source": [
    "with tf.Session() as sess:\n",
    "    sess.run(tf.global_variables_initializer())\n",
    "    \n",
    "    for step in range(10001):\n",
    "        cost_val, _ = sess.run([cost, train], feed_dict={X: x_data, Y: y_data})\n",
    "        if step % 200 == 0:\n",
    "            print(step, cost_val)\n",
    "    \n",
    "    # Accuracy report\n",
    "    h, c, a = sess.run([hypothesis, predicted, accuracy], feed_dict={X: x_data, Y: y_data})\n",
    "    print(\"\\nHypothesis:\\n\", h, \"\\nCorrect (Y):\\n\", c, \"\\nAccuracy:\\n\", a)"
   ]
  },
  {
   "cell_type": "code",
   "execution_count": null,
   "metadata": {},
   "outputs": [],
   "source": []
  }
 ],
 "metadata": {
  "kernelspec": {
   "display_name": "Python 3",
   "language": "python",
   "name": "python3"
  },
  "language_info": {
   "codemirror_mode": {
    "name": "ipython",
    "version": 3
   },
   "file_extension": ".py",
   "mimetype": "text/x-python",
   "name": "python",
   "nbconvert_exporter": "python",
   "pygments_lexer": "ipython3",
   "version": "3.7.3"
  }
 },
 "nbformat": 4,
 "nbformat_minor": 2
}
