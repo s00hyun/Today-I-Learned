{
  "nbformat": 4,
  "nbformat_minor": 0,
  "metadata": {
    "colab": {
      "name": "lab10_MNIST_NN",
      "version": "0.3.2",
      "provenance": [],
      "collapsed_sections": []
    },
    "kernelspec": {
      "name": "python3",
      "display_name": "Python 3"
    },
    "accelerator": "GPU"
  },
  "cells": [
    {
      "cell_type": "code",
      "metadata": {
        "id": "9SPq6ZCzrhHW",
        "colab_type": "code",
        "colab": {}
      },
      "source": [
        "import tensorflow as tf"
      ],
      "execution_count": 0,
      "outputs": []
    },
    {
      "cell_type": "code",
      "metadata": {
        "id": "OdsCUhb1sLAM",
        "colab_type": "code",
        "colab": {}
      },
      "source": [
        "import matplotlib.pyplot as plt\n",
        "import random\n",
        "\n",
        "from tensorflow.examples.tutorials.mnist import input_data\n",
        "\n",
        "tf.set_random_seed(777)  # reproducibility"
      ],
      "execution_count": 0,
      "outputs": []
    },
    {
      "cell_type": "code",
      "metadata": {
        "id": "nwzbD4r1zzyg",
        "colab_type": "code",
        "outputId": "a195716d-c5fd-4c85-9c45-8359e62c1187",
        "colab": {
          "base_uri": "https://localhost:8080/",
          "height": 87
        }
      },
      "source": [
        "mnist = input_data.read_data_sets(\"MNIST_data/\", one_hot=True)"
      ],
      "execution_count": 0,
      "outputs": [
        {
          "output_type": "stream",
          "text": [
            "Extracting MNIST_data/train-images-idx3-ubyte.gz\n",
            "Extracting MNIST_data/train-labels-idx1-ubyte.gz\n",
            "Extracting MNIST_data/t10k-images-idx3-ubyte.gz\n",
            "Extracting MNIST_data/t10k-labels-idx1-ubyte.gz\n"
          ],
          "name": "stdout"
        }
      ]
    },
    {
      "cell_type": "code",
      "metadata": {
        "id": "YSk2GoVc0cY0",
        "colab_type": "code",
        "colab": {}
      },
      "source": [
        "learning_rate = 0.001\n",
        "batch_size = 100\n",
        "num_epochs = 50\n",
        "num_iterations = int(mnist.train.num_examples / batch_size)"
      ],
      "execution_count": 0,
      "outputs": []
    },
    {
      "cell_type": "code",
      "metadata": {
        "id": "TAwUu_3P9daT",
        "colab_type": "code",
        "colab": {}
      },
      "source": [
        "X = tf.placeholder(tf.float32, [None, 784])\n",
        "Y = tf.placeholder(tf.float32, [None, 10])\n",
        "\n",
        "W1 = tf.Variable(tf.random_normal([784, 256]))\n",
        "b1 = tf.Variable(tf.random_normal([256]))\n",
        "L1 = tf.nn.relu(tf.matmul(X, W1) + b1)\n",
        "\n",
        "W2 = tf.Variable(tf.random_normal([256, 256]))\n",
        "b2 = tf.Variable(tf.random_normal([256]))\n",
        "L2 = tf.nn.relu(tf.matmul(L1, W2) + b2)\n",
        "\n",
        "W3 = tf.Variable(tf.random_normal([256, 10]))\n",
        "b3 = tf.Variable(tf.random_normal([10]))\n",
        "hypothesis = tf.matmul(L2, W3) + b3"
      ],
      "execution_count": 0,
      "outputs": []
    },
    {
      "cell_type": "code",
      "metadata": {
        "id": "UmrvMrCG0M-A",
        "colab_type": "code",
        "colab": {}
      },
      "source": [
        "cost = tf.reduce_mean(tf.nn.softmax_cross_entropy_with_logits_v2(logits=hypothesis, labels=Y))\n",
        "optimizer = tf.train.AdamOptimizer(learning_rate=learning_rate).minimize(cost)"
      ],
      "execution_count": 0,
      "outputs": []
    },
    {
      "cell_type": "code",
      "metadata": {
        "id": "hu02oRcn0s94",
        "colab_type": "code",
        "colab": {}
      },
      "source": [
        "sess = tf.Session()\n",
        "sess.run(tf.global_variables_initializer())"
      ],
      "execution_count": 0,
      "outputs": []
    },
    {
      "cell_type": "code",
      "metadata": {
        "id": "njT0-D1c0w6t",
        "colab_type": "code",
        "outputId": "00c2528c-bc18-44ea-a947-5300a611a6a5",
        "colab": {
          "base_uri": "https://localhost:8080/",
          "height": 932
        }
      },
      "source": [
        "for epoch in range(num_epochs):\n",
        "  avg_cost = 0\n",
        "  total_batch = int(mnist.train.num_examples / batch_size)\n",
        "  \n",
        "  for i in range(total_batch):\n",
        "    batch_xs, batch_ys = mnist.train.next_batch(batch_size)\n",
        "    feed_dict = {X: batch_xs, Y: batch_ys}\n",
        "    c, _ = sess.run([cost, optimizer], feed_dict=feed_dict)\n",
        "    avg_cost += c / total_batch\n",
        "  \n",
        "  print('Epoch: ', '%04d' % (epoch+1), 'cost = ', '{:.9f}'.format(avg_cost))\n",
        "\n",
        "print('Learning Finished!')\n",
        "\n",
        "correct_prediction = tf.equal(tf.argmax(hypothesis, 1), tf.argmax(Y, 1))\n",
        "accuracy = tf.reduce_mean(tf.cast(correct_prediction, tf.float32))\n",
        "print('Accuracy: ', sess.run(accuracy, feed_dict={X: mnist.test.images, Y: mnist.test.labels}))"
      ],
      "execution_count": 0,
      "outputs": [
        {
          "output_type": "stream",
          "text": [
            "Epoch:  0001 cost =  138.512304778\n",
            "Epoch:  0002 cost =  38.429395834\n",
            "Epoch:  0003 cost =  23.759120384\n",
            "Epoch:  0004 cost =  16.555135402\n",
            "Epoch:  0005 cost =  11.777481931\n",
            "Epoch:  0006 cost =  8.700254201\n",
            "Epoch:  0007 cost =  6.580429038\n",
            "Epoch:  0008 cost =  4.832590702\n",
            "Epoch:  0009 cost =  3.669667148\n",
            "Epoch:  0010 cost =  2.676907853\n",
            "Epoch:  0011 cost =  1.948592480\n",
            "Epoch:  0012 cost =  1.535451072\n",
            "Epoch:  0013 cost =  1.177183669\n",
            "Epoch:  0014 cost =  0.823413934\n",
            "Epoch:  0015 cost =  0.679163971\n",
            "Epoch:  0016 cost =  0.673468617\n",
            "Epoch:  0017 cost =  0.550359247\n",
            "Epoch:  0018 cost =  0.424724840\n",
            "Epoch:  0019 cost =  0.462699124\n",
            "Epoch:  0020 cost =  0.303653844\n",
            "Epoch:  0021 cost =  0.431118292\n",
            "Epoch:  0022 cost =  0.336926565\n",
            "Epoch:  0023 cost =  0.348367045\n",
            "Epoch:  0024 cost =  0.252792512\n",
            "Epoch:  0025 cost =  0.276598234\n",
            "Epoch:  0026 cost =  0.287240993\n",
            "Epoch:  0027 cost =  0.325706773\n",
            "Epoch:  0028 cost =  0.273958193\n",
            "Epoch:  0029 cost =  0.289575664\n",
            "Epoch:  0030 cost =  0.242997614\n",
            "Epoch:  0031 cost =  0.265797568\n",
            "Epoch:  0032 cost =  0.196582373\n",
            "Epoch:  0033 cost =  0.233897384\n",
            "Epoch:  0034 cost =  0.200317626\n",
            "Epoch:  0035 cost =  0.230989064\n",
            "Epoch:  0036 cost =  0.175764155\n",
            "Epoch:  0037 cost =  0.240286959\n",
            "Epoch:  0038 cost =  0.210558032\n",
            "Epoch:  0039 cost =  0.143583695\n",
            "Epoch:  0040 cost =  0.106169976\n",
            "Epoch:  0041 cost =  0.212919804\n",
            "Epoch:  0042 cost =  0.166262699\n",
            "Epoch:  0043 cost =  0.170118305\n",
            "Epoch:  0044 cost =  0.178080456\n",
            "Epoch:  0045 cost =  0.184195821\n",
            "Epoch:  0046 cost =  0.146951063\n",
            "Epoch:  0047 cost =  0.147331709\n",
            "Epoch:  0048 cost =  0.142918040\n",
            "Epoch:  0049 cost =  0.142281302\n",
            "Epoch:  0050 cost =  0.176088745\n",
            "Learning Finished!\n",
            "Accuracy:  0.9625\n"
          ],
          "name": "stdout"
        }
      ]
    },
    {
      "cell_type": "code",
      "metadata": {
        "id": "ohl2CQDW-prJ",
        "colab_type": "code",
        "outputId": "eefd3fa8-a189-4dac-af19-70547c6dc599",
        "colab": {
          "base_uri": "https://localhost:8080/",
          "height": 304
        }
      },
      "source": [
        "r = random.randint(0, mnist.test.num_examples - 1)\n",
        "\n",
        "print(\"Label: \", sess.run(tf.argmax(mnist.test.labels[r : r + 1], axis=1)))\n",
        "print(\n",
        "    \"Prediction: \",\n",
        "    sess.run(\n",
        "        tf.argmax(hypothesis, axis=1), feed_dict={X: mnist.test.images[r : r + 1]}\n",
        "    ),\n",
        ")\n",
        "\n",
        "plt.imshow(\n",
        "    mnist.test.images[r : r + 1].reshape(28, 28),\n",
        "    cmap=\"Greys\",\n",
        "    interpolation=\"nearest\",\n",
        ")\n",
        "plt.show()"
      ],
      "execution_count": 0,
      "outputs": [
        {
          "output_type": "stream",
          "text": [
            "Label:  [0]\n",
            "Prediction:  [0]\n"
          ],
          "name": "stdout"
        },
        {
          "output_type": "display_data",
          "data": {
            "image/png": "[encoded data removed]",
            "text/plain": [
              "<Figure size 432x288 with 1 Axes>"
            ]
          },
          "metadata": {
            "tags": []
          }
        }
      ]
    }
  ]
}