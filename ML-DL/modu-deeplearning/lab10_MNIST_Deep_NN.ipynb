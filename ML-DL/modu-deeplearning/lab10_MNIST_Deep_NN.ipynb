{
  "nbformat": 4,
  "nbformat_minor": 0,
  "metadata": {
    "colab": {
      "name": "lab10_MNIST_Deep_NN",
      "version": "0.3.2",
      "provenance": [],
      "collapsed_sections": []
    },
    "kernelspec": {
      "name": "python3",
      "display_name": "Python 3"
    },
    "accelerator": "GPU"
  },
  "cells": [
    {
      "cell_type": "code",
      "metadata": {
        "id": "9SPq6ZCzrhHW",
        "colab_type": "code",
        "colab": {}
      },
      "source": [
        "import tensorflow as tf\n",
        "import matplotlib.pyplot as plt\n",
        "import random\n",
        "\n",
        "from tensorflow.examples.tutorials.mnist import input_data\n",
        "\n",
        "tf.set_random_seed(777)  # reproducibility"
      ],
      "execution_count": 0,
      "outputs": []
    },
    {
      "cell_type": "code",
      "metadata": {
        "id": "nwzbD4r1zzyg",
        "colab_type": "code",
        "outputId": "394066b6-a219-43da-fc08-55964bedcad2",
        "colab": {
          "base_uri": "https://localhost:8080/",
          "height": 87
        }
      },
      "source": [
        "mnist = input_data.read_data_sets(\"MNIST_data/\", one_hot=True)"
      ],
      "execution_count": 0,
      "outputs": [
        {
          "output_type": "stream",
          "text": [
            "Extracting MNIST_data/train-images-idx3-ubyte.gz\n",
            "Extracting MNIST_data/train-labels-idx1-ubyte.gz\n",
            "Extracting MNIST_data/t10k-images-idx3-ubyte.gz\n",
            "Extracting MNIST_data/t10k-labels-idx1-ubyte.gz\n"
          ],
          "name": "stdout"
        }
      ]
    },
    {
      "cell_type": "code",
      "metadata": {
        "id": "YSk2GoVc0cY0",
        "colab_type": "code",
        "colab": {}
      },
      "source": [
        "learning_rate = 0.001\n",
        "batch_size = 100\n",
        "num_epochs = 50\n",
        "num_iterations = int(mnist.train.num_examples / batch_size)"
      ],
      "execution_count": 0,
      "outputs": []
    },
    {
      "cell_type": "code",
      "metadata": {
        "id": "TAwUu_3P9daT",
        "colab_type": "code",
        "colab": {}
      },
      "source": [
        "X = tf.placeholder(tf.float32, [None, 784])\n",
        "Y = tf.placeholder(tf.float32, [None, 10])\n",
        "\n",
        "W1 = tf.get_variable(\"W1\", shape=[784, 512],\n",
        "                    initializer=tf.contrib.layers.xavier_initializer())\n",
        "b1 = tf.Variable(tf.random_normal([512]))\n",
        "L1 = tf.nn.relu(tf.matmul(X, W1) + b1)\n",
        "\n",
        "W2 = tf.get_variable(\"W2\", shape=[512, 512],\n",
        "                    initializer=tf.contrib.layers.xavier_initializer())\n",
        "b2 = tf.Variable(tf.random_normal([512]))\n",
        "L2 = tf.nn.relu(tf.matmul(L1, W2) + b2)\n",
        "\n",
        "W3 = tf.get_variable(\"W3\", shape=[512, 512],\n",
        "                    initializer=tf.contrib.layers.xavier_initializer())\n",
        "b3 = tf.Variable(tf.random_normal([512]))\n",
        "L3 = tf.nn.relu(tf.matmul(L2, W3) + b3)\n",
        "\n",
        "W4 = tf.get_variable(\"W4\", shape=[512, 512],\n",
        "                    initializer=tf.contrib.layers.xavier_initializer())\n",
        "b4 = tf.Variable(tf.random_normal([512]))\n",
        "L4 = tf.nn.relu(tf.matmul(L3, W4) + b4)\n",
        "\n",
        "W5 = tf.get_variable(\"W5\", shape=[512, 10],\n",
        "                    initializer=tf.contrib.layers.xavier_initializer())\n",
        "b5 = tf.Variable(tf.random_normal([10]))\n",
        "hypothesis = tf.matmul(L4, W5) + b5"
      ],
      "execution_count": 0,
      "outputs": []
    },
    {
      "cell_type": "code",
      "metadata": {
        "id": "UmrvMrCG0M-A",
        "colab_type": "code",
        "colab": {}
      },
      "source": [
        "cost = tf.reduce_mean(tf.nn.softmax_cross_entropy_with_logits_v2(logits=hypothesis, labels=Y))\n",
        "optimizer = tf.train.AdamOptimizer(learning_rate=learning_rate).minimize(cost)"
      ],
      "execution_count": 0,
      "outputs": []
    },
    {
      "cell_type": "code",
      "metadata": {
        "id": "hu02oRcn0s94",
        "colab_type": "code",
        "colab": {}
      },
      "source": [
        "sess = tf.Session()\n",
        "sess.run(tf.global_variables_initializer())"
      ],
      "execution_count": 0,
      "outputs": []
    },
    {
      "cell_type": "code",
      "metadata": {
        "id": "njT0-D1c0w6t",
        "colab_type": "code",
        "outputId": "628ec396-b109-4cdb-885f-4a4748683ebc",
        "colab": {
          "base_uri": "https://localhost:8080/",
          "height": 932
        }
      },
      "source": [
        "for epoch in range(num_epochs):\n",
        "  avg_cost = 0\n",
        "  total_batch = int(mnist.train.num_examples / batch_size)\n",
        "  \n",
        "  for i in range(total_batch):\n",
        "    batch_xs, batch_ys = mnist.train.next_batch(batch_size)\n",
        "    feed_dict = {X: batch_xs, Y: batch_ys}\n",
        "    c, _ = sess.run([cost, optimizer], feed_dict=feed_dict)\n",
        "    avg_cost += c / total_batch\n",
        "  \n",
        "  print('Epoch: ', '%04d' % (epoch+1), 'cost = ', '{:.9f}'.format(avg_cost))\n",
        "\n",
        "print('Learning Finished!')\n",
        "\n",
        "correct_prediction = tf.equal(tf.argmax(hypothesis, 1), tf.argmax(Y, 1))\n",
        "accuracy = tf.reduce_mean(tf.cast(correct_prediction, tf.float32))\n",
        "print('Accuracy: ', sess.run(accuracy, feed_dict={X: mnist.test.images, Y: mnist.test.labels}))"
      ],
      "execution_count": 0,
      "outputs": [
        {
          "output_type": "stream",
          "text": [
            "Epoch:  0001 cost =  0.296600242\n",
            "Epoch:  0002 cost =  0.106303462\n",
            "Epoch:  0003 cost =  0.070163584\n",
            "Epoch:  0004 cost =  0.053407148\n",
            "Epoch:  0005 cost =  0.040954058\n",
            "Epoch:  0006 cost =  0.038665383\n",
            "Epoch:  0007 cost =  0.030955290\n",
            "Epoch:  0008 cost =  0.026210720\n",
            "Epoch:  0009 cost =  0.021660937\n",
            "Epoch:  0010 cost =  0.022793489\n",
            "Epoch:  0011 cost =  0.019067575\n",
            "Epoch:  0012 cost =  0.016449365\n",
            "Epoch:  0013 cost =  0.015976897\n",
            "Epoch:  0014 cost =  0.018956556\n",
            "Epoch:  0015 cost =  0.013697135\n",
            "Epoch:  0016 cost =  0.014898783\n",
            "Epoch:  0017 cost =  0.012242168\n",
            "Epoch:  0018 cost =  0.012373675\n",
            "Epoch:  0019 cost =  0.012903692\n",
            "Epoch:  0020 cost =  0.010874953\n",
            "Epoch:  0021 cost =  0.015387651\n",
            "Epoch:  0022 cost =  0.010642285\n",
            "Epoch:  0023 cost =  0.007187540\n",
            "Epoch:  0024 cost =  0.011683016\n",
            "Epoch:  0025 cost =  0.011605252\n",
            "Epoch:  0026 cost =  0.009851342\n",
            "Epoch:  0027 cost =  0.005896163\n",
            "Epoch:  0028 cost =  0.008681340\n",
            "Epoch:  0029 cost =  0.008367593\n",
            "Epoch:  0030 cost =  0.010132753\n",
            "Epoch:  0031 cost =  0.007612982\n",
            "Epoch:  0032 cost =  0.008296259\n",
            "Epoch:  0033 cost =  0.008498389\n",
            "Epoch:  0034 cost =  0.008968889\n",
            "Epoch:  0035 cost =  0.006371039\n",
            "Epoch:  0036 cost =  0.007004423\n",
            "Epoch:  0037 cost =  0.010041563\n",
            "Epoch:  0038 cost =  0.007186591\n",
            "Epoch:  0039 cost =  0.006375165\n",
            "Epoch:  0040 cost =  0.008643638\n",
            "Epoch:  0041 cost =  0.006035112\n",
            "Epoch:  0042 cost =  0.006600773\n",
            "Epoch:  0043 cost =  0.007895787\n",
            "Epoch:  0044 cost =  0.007840565\n",
            "Epoch:  0045 cost =  0.006607203\n",
            "Epoch:  0046 cost =  0.006568166\n",
            "Epoch:  0047 cost =  0.004867994\n",
            "Epoch:  0048 cost =  0.004803730\n",
            "Epoch:  0049 cost =  0.009204140\n",
            "Epoch:  0050 cost =  0.009012794\n",
            "Learning Finished!\n",
            "Accuracy:  0.9817\n"
          ],
          "name": "stdout"
        }
      ]
    },
    {
      "cell_type": "code",
      "metadata": {
        "id": "ohl2CQDW-prJ",
        "colab_type": "code",
        "outputId": "fef540ef-a0a2-4b3b-f3de-2543954bcd65",
        "colab": {
          "base_uri": "https://localhost:8080/",
          "height": 304
        }
      },
      "source": [
        "r = random.randint(0, mnist.test.num_examples - 1)\n",
        "\n",
        "print(\"Label: \", sess.run(tf.argmax(mnist.test.labels[r : r + 1], axis=1)))\n",
        "print(\n",
        "    \"Prediction: \",\n",
        "    sess.run(\n",
        "        tf.argmax(hypothesis, axis=1), feed_dict={X: mnist.test.images[r : r + 1]}\n",
        "    ),\n",
        ")\n",
        "\n",
        "plt.imshow(\n",
        "    mnist.test.images[r : r + 1].reshape(28, 28),\n",
        "    cmap=\"Greys\",\n",
        "    interpolation=\"nearest\",\n",
        ")\n",
        "plt.show()"
      ],
      "execution_count": 0,
      "outputs": [
        {
          "output_type": "stream",
          "text": [
            "Label:  [0]\n",
            "Prediction:  [0]\n"
          ],
          "name": "stdout"
        },
        {
          "output_type": "display_data",
          "data": {
            "image/png": "[encoded data removed]",
            "text/plain": [
              "<Figure size 432x288 with 1 Axes>"
            ]
          },
          "metadata": {
            "tags": []
          }
        }
      ]
    }
  ]
}