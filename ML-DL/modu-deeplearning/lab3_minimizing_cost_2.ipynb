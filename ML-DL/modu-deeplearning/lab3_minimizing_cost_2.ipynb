{
 "cells": [
  {
   "cell_type": "code",
   "execution_count": 1,
   "metadata": {},
   "outputs": [],
   "source": [
    "import tensorflow as tf"
   ]
  },
  {
   "cell_type": "code",
   "execution_count": 2,
   "metadata": {},
   "outputs": [],
   "source": [
    "x_data = [1, 2, 3]\n",
    "y_data = [1, 2, 3]\n",
    "\n",
    "W = tf.Variable(tf.random_normal([1]), name='weight')\n",
    "X = tf.placeholder(tf.float32)\n",
    "Y = tf.placeholder(tf.float32)\n",
    "\n",
    "hypothesis = X * W\n",
    "\n",
    "cost = tf.reduce_sum(tf.square(hypothesis - Y))"
   ]
  },
  {
   "cell_type": "code",
   "execution_count": 3,
   "metadata": {},
   "outputs": [],
   "source": [
    "learning_rate = 0.1\n",
    "gradient = tf.reduce_mean((W * X - Y) * X)\n",
    "descent = W - learning_rate * gradient\n",
    "update = W.assign(descent)"
   ]
  },
  {
   "cell_type": "code",
   "execution_count": 4,
   "metadata": {},
   "outputs": [
    {
     "name": "stdout",
     "output_type": "stream",
     "text": [
      "0 2.211345 [0.6025667]\n",
      "1 0.62900496 [0.7880356]\n",
      "2 0.1789171 [0.8869523]\n",
      "3 0.05089192 [0.9397079]\n",
      "4 0.014475958 [0.9678442]\n",
      "5 0.004117599 [0.98285025]\n",
      "6 0.0011712248 [0.9908535]\n",
      "7 0.00033315417 [0.99512184]\n",
      "8 9.47635e-05 [0.9973983]\n",
      "9 2.695311e-05 [0.99861246]\n",
      "10 7.667462e-06 [0.99925995]\n",
      "11 2.1807725e-06 [0.9996053]\n",
      "12 6.2048264e-07 [0.9997895]\n",
      "13 1.7654281e-07 [0.9998877]\n",
      "14 5.025804e-08 [0.9999401]\n",
      "15 1.4289526e-08 [0.99996805]\n",
      "16 4.05619e-09 [0.99998295]\n",
      "17 1.1675816e-09 [0.9999909]\n",
      "18 3.3794834e-10 [0.9999951]\n",
      "19 9.629275e-11 [0.9999974]\n",
      "20 2.5824676e-11 [0.9999986]\n"
     ]
    }
   ],
   "source": [
    "sess = tf.Session()\n",
    "sess.run(tf.global_variables_initializer())\n",
    "for step in range(21):\n",
    "    sess.run(update, feed_dict={X: x_data, Y: y_data})\n",
    "    print(step, sess.run(cost, feed_dict={X: x_data, Y: y_data}), sess.run(W))"
   ]
  },
  {
   "cell_type": "code",
   "execution_count": 5,
   "metadata": {},
   "outputs": [
    {
     "name": "stdout",
     "output_type": "stream",
     "text": [
      "[1.9999973 2.999996  3.9999945]\n"
     ]
    }
   ],
   "source": [
    "h = sess.run(hypothesis, feed_dict={X: [2, 3, 4]})\n",
    "print(h)"
   ]
  },
  {
   "cell_type": "code",
   "execution_count": 6,
   "metadata": {},
   "outputs": [
    {
     "name": "stdout",
     "output_type": "stream",
     "text": [
      "<class 'numpy.ndarray'>\n"
     ]
    }
   ],
   "source": [
    "print(type(h))"
   ]
  },
  {
   "cell_type": "code",
   "execution_count": null,
   "metadata": {},
   "outputs": [],
   "source": []
  }
 ],
 "metadata": {
  "kernelspec": {
   "display_name": "Python 3",
   "language": "python",
   "name": "python3"
  },
  "language_info": {
   "codemirror_mode": {
    "name": "ipython",
    "version": 3
   },
   "file_extension": ".py",
   "mimetype": "text/x-python",
   "name": "python",
   "nbconvert_exporter": "python",
   "pygments_lexer": "ipython3",
   "version": "3.7.4"
  }
 },
 "nbformat": 4,
 "nbformat_minor": 2
}
