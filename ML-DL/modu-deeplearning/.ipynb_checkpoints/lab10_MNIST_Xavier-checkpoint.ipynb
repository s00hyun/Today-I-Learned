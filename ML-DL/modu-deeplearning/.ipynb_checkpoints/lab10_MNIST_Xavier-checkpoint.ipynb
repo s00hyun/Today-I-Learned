{
 "cells": [
  {
   "cell_type": "code",
   "execution_count": 0,
   "metadata": {
    "colab": {},
    "colab_type": "code",
    "id": "9SPq6ZCzrhHW"
   },
   "outputs": [],
   "source": [
    "import tensorflow as tf\n",
    "import matplotlib.pyplot as plt\n",
    "import random\n",
    "\n",
    "from tensorflow.examples.tutorials.mnist import input_data\n",
    "\n",
    "tf.set_random_seed(777)  # reproducibility"
   ]
  },
  {
   "cell_type": "code",
   "execution_count": 0,
   "metadata": {
    "colab": {
     "base_uri": "https://localhost:8080/",
     "height": 87
    },
    "colab_type": "code",
    "id": "nwzbD4r1zzyg",
    "outputId": "ff943491-2ceb-4c62-f88d-11b627fae51b"
   },
   "outputs": [
    {
     "name": "stdout",
     "output_type": "stream",
     "text": [
      "Extracting MNIST_data/train-images-idx3-ubyte.gz\n",
      "Extracting MNIST_data/train-labels-idx1-ubyte.gz\n",
      "Extracting MNIST_data/t10k-images-idx3-ubyte.gz\n",
      "Extracting MNIST_data/t10k-labels-idx1-ubyte.gz\n"
     ]
    }
   ],
   "source": [
    "mnist = input_data.read_data_sets(\"MNIST_data/\", one_hot=True)"
   ]
  },
  {
   "cell_type": "code",
   "execution_count": 0,
   "metadata": {
    "colab": {},
    "colab_type": "code",
    "id": "YSk2GoVc0cY0"
   },
   "outputs": [],
   "source": [
    "learning_rate = 0.001\n",
    "batch_size = 100\n",
    "num_epochs = 50\n",
    "num_iterations = int(mnist.train.num_examples / batch_size)"
   ]
  },
  {
   "cell_type": "code",
   "execution_count": 0,
   "metadata": {
    "colab": {},
    "colab_type": "code",
    "id": "TAwUu_3P9daT"
   },
   "outputs": [],
   "source": [
    "X = tf.placeholder(tf.float32, [None, 784])\n",
    "Y = tf.placeholder(tf.float32, [None, 10])\n",
    "\n",
    "W1 = tf.get_variable(\"W1\", shape=[784, 256],\n",
    "                    initializer=tf.contrib.layers.xavier_initializer())\n",
    "b1 = tf.Variable(tf.random_normal([256]))\n",
    "L1 = tf.nn.relu(tf.matmul(X, W1) + b1)\n",
    "\n",
    "W2 = tf.get_variable(\"W2\", shape=[256, 256],\n",
    "                    initializer=tf.contrib.layers.xavier_initializer())\n",
    "b2 = tf.Variable(tf.random_normal([256]))\n",
    "L2 = tf.nn.relu(tf.matmul(L1, W2) + b2)\n",
    "\n",
    "W3 = tf.get_variable(\"W3\", shape=[256, 10],\n",
    "                    initializer=tf.contrib.layers.xavier_initializer())\n",
    "b3 = tf.Variable(tf.random_normal([10]))\n",
    "hypothesis = tf.matmul(L2, W3) + b3"
   ]
  },
  {
   "cell_type": "code",
   "execution_count": 0,
   "metadata": {
    "colab": {},
    "colab_type": "code",
    "id": "UmrvMrCG0M-A"
   },
   "outputs": [],
   "source": [
    "cost = tf.reduce_mean(tf.nn.softmax_cross_entropy_with_logits_v2(logits=hypothesis, labels=Y))\n",
    "optimizer = tf.train.AdamOptimizer(learning_rate=learning_rate).minimize(cost)"
   ]
  },
  {
   "cell_type": "code",
   "execution_count": 0,
   "metadata": {
    "colab": {},
    "colab_type": "code",
    "id": "hu02oRcn0s94"
   },
   "outputs": [],
   "source": [
    "sess = tf.Session()\n",
    "sess.run(tf.global_variables_initializer())"
   ]
  },
  {
   "cell_type": "code",
   "execution_count": 0,
   "metadata": {
    "colab": {
     "base_uri": "https://localhost:8080/",
     "height": 932
    },
    "colab_type": "code",
    "id": "njT0-D1c0w6t",
    "outputId": "2af3b635-a8d3-475e-f6bf-ffda1cb2aa13"
   },
   "outputs": [
    {
     "name": "stdout",
     "output_type": "stream",
     "text": [
      "Epoch:  0001 cost =  0.300983611\n",
      "Epoch:  0002 cost =  0.113821186\n",
      "Epoch:  0003 cost =  0.073466309\n",
      "Epoch:  0004 cost =  0.052262851\n",
      "Epoch:  0005 cost =  0.038115495\n",
      "Epoch:  0006 cost =  0.029622996\n",
      "Epoch:  0007 cost =  0.023482576\n",
      "Epoch:  0008 cost =  0.019551201\n",
      "Epoch:  0009 cost =  0.015505463\n",
      "Epoch:  0010 cost =  0.016506763\n",
      "Epoch:  0011 cost =  0.011272308\n",
      "Epoch:  0012 cost =  0.009572448\n",
      "Epoch:  0013 cost =  0.010522007\n",
      "Epoch:  0014 cost =  0.010016356\n",
      "Epoch:  0015 cost =  0.010232494\n",
      "Epoch:  0016 cost =  0.008642000\n",
      "Epoch:  0017 cost =  0.008208992\n",
      "Epoch:  0018 cost =  0.007744748\n",
      "Epoch:  0019 cost =  0.006171412\n",
      "Epoch:  0020 cost =  0.008358803\n",
      "Epoch:  0021 cost =  0.006999080\n",
      "Epoch:  0022 cost =  0.005647939\n",
      "Epoch:  0023 cost =  0.007502040\n",
      "Epoch:  0024 cost =  0.003988592\n",
      "Epoch:  0025 cost =  0.006565924\n",
      "Epoch:  0026 cost =  0.005894123\n",
      "Epoch:  0027 cost =  0.006079888\n",
      "Epoch:  0028 cost =  0.003027716\n",
      "Epoch:  0029 cost =  0.006181140\n",
      "Epoch:  0030 cost =  0.005210421\n",
      "Epoch:  0031 cost =  0.006028349\n",
      "Epoch:  0032 cost =  0.003796280\n",
      "Epoch:  0033 cost =  0.006000012\n",
      "Epoch:  0034 cost =  0.004956453\n",
      "Epoch:  0035 cost =  0.005102359\n",
      "Epoch:  0036 cost =  0.003096987\n",
      "Epoch:  0037 cost =  0.002685853\n",
      "Epoch:  0038 cost =  0.009961997\n",
      "Epoch:  0039 cost =  0.003504302\n",
      "Epoch:  0040 cost =  0.000568442\n",
      "Epoch:  0041 cost =  0.000056134\n",
      "Epoch:  0042 cost =  0.000019053\n",
      "Epoch:  0043 cost =  0.000013034\n",
      "Epoch:  0044 cost =  0.000010182\n",
      "Epoch:  0045 cost =  0.000008156\n",
      "Epoch:  0046 cost =  0.000006516\n",
      "Epoch:  0047 cost =  0.000005231\n",
      "Epoch:  0048 cost =  0.000004187\n",
      "Epoch:  0049 cost =  0.000003323\n",
      "Epoch:  0050 cost =  0.000002631\n",
      "Learning Finished!\n",
      "Accuracy:  0.985\n"
     ]
    }
   ],
   "source": [
    "for epoch in range(num_epochs):\n",
    "  avg_cost = 0\n",
    "  total_batch = int(mnist.train.num_examples / batch_size)\n",
    "  \n",
    "  for i in range(total_batch):\n",
    "    batch_xs, batch_ys = mnist.train.next_batch(batch_size)\n",
    "    feed_dict = {X: batch_xs, Y: batch_ys}\n",
    "    c, _ = sess.run([cost, optimizer], feed_dict=feed_dict)\n",
    "    avg_cost += c / total_batch\n",
    "  \n",
    "  print('Epoch: ', '%04d' % (epoch+1), 'cost = ', '{:.9f}'.format(avg_cost))\n",
    "\n",
    "print('Learning Finished!')\n",
    "\n",
    "correct_prediction = tf.equal(tf.argmax(hypothesis, 1), tf.argmax(Y, 1))\n",
    "accuracy = tf.reduce_mean(tf.cast(correct_prediction, tf.float32))\n",
    "print('Accuracy: ', sess.run(accuracy, feed_dict={X: mnist.test.images, Y: mnist.test.labels}))"
   ]
  },
  {
   "cell_type": "code",
   "execution_count": 0,
   "metadata": {
    "colab": {
     "base_uri": "https://localhost:8080/",
     "height": 304
    },
    "colab_type": "code",
    "id": "ohl2CQDW-prJ",
    "outputId": "49eba6aa-98c5-4e3e-afbe-42862edd4047"
   },
   "outputs": [
    {
     "name": "stdout",
     "output_type": "stream",
     "text": [
      "Label:  [1]\n",
      "Prediction:  [1]\n"
     ]
    },
    {
     "data": {
      "image/png": "[encoded data removed]",
      "text/plain": [
       "<Figure size 432x288 with 1 Axes>"
      ]
     },
     "metadata": {
      "tags": []
     },
     "output_type": "display_data"
    }
   ],
   "source": [
    "r = random.randint(0, mnist.test.num_examples - 1)\n",
    "\n",
    "print(\"Label: \", sess.run(tf.argmax(mnist.test.labels[r : r + 1], axis=1)))\n",
    "print(\n",
    "    \"Prediction: \",\n",
    "    sess.run(\n",
    "        tf.argmax(hypothesis, axis=1), feed_dict={X: mnist.test.images[r : r + 1]}\n",
    "    ),\n",
    ")\n",
    "\n",
    "plt.imshow(\n",
    "    mnist.test.images[r : r + 1].reshape(28, 28),\n",
    "    cmap=\"Greys\",\n",
    "    interpolation=\"nearest\",\n",
    ")\n",
    "plt.show()"
   ]
  }
 ],
 "metadata": {
  "accelerator": "GPU",
  "colab": {
   "collapsed_sections": [],
   "name": "lab10_MNIST_Xavier",
   "provenance": [],
   "version": "0.3.2"
  },
  "kernelspec": {
   "display_name": "Python 3",
   "language": "python",
   "name": "python3"
  },
  "language_info": {
   "codemirror_mode": {
    "name": "ipython",
    "version": 3
   },
   "file_extension": ".py",
   "mimetype": "text/x-python",
   "name": "python",
   "nbconvert_exporter": "python",
   "pygments_lexer": "ipython3",
   "version": "3.7.4"
  }
 },
 "nbformat": 4,
 "nbformat_minor": 1
}
