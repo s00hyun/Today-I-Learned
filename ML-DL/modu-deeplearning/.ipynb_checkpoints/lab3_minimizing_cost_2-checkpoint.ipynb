{
 "cells": [
  {
   "cell_type": "code",
   "execution_count": 1,
   "metadata": {},
   "outputs": [],
   "source": [
    "import tensorflow as tf"
   ]
  },
  {
   "cell_type": "code",
   "execution_count": 5,
   "metadata": {},
   "outputs": [],
   "source": [
    "x_data = [1, 2, 3]\n",
    "y_data = [1, 2, 3]\n",
    "\n",
    "W = tf.Variable(tf.random_normal([1]), name='weight')\n",
    "X = tf.placeholder(tf.float32)\n",
    "Y = tf.placeholder(tf.float32)\n",
    "\n",
    "hypothesis = X * W\n",
    "\n",
    "cost = tf.reduce_sum(tf.square(hypothesis - Y))"
   ]
  },
  {
   "cell_type": "code",
   "execution_count": 6,
   "metadata": {},
   "outputs": [],
   "source": [
    "learning_rate = 0.1\n",
    "gradient = tf.reduce_mean((W * X - Y) * X)\n",
    "descent = W - learning_rate * gradient\n",
    "update = W.assign(descent)"
   ]
  },
  {
   "cell_type": "code",
   "execution_count": 7,
   "metadata": {},
   "outputs": [
    {
     "name": "stdout",
     "output_type": "stream",
     "text": [
      "0 3.9435031 [0.4692658]\n",
      "1 1.1217074 [0.7169418]\n",
      "2 0.31906354 [0.8490356]\n",
      "3 0.09075571 [0.9194857]\n",
      "4 0.02581495 [0.957059]\n",
      "5 0.007342937 [0.9770981]\n",
      "6 0.0020886648 [0.98778564]\n",
      "7 0.00059410743 [0.9934857]\n",
      "8 0.00016899142 [0.9965257]\n",
      "9 4.8066213e-05 [0.9981471]\n",
      "10 1.3672795e-05 [0.99901175]\n",
      "11 3.8892554e-06 [0.9994729]\n",
      "12 1.1062056e-06 [0.9997189]\n",
      "13 3.145504e-07 [0.9998501]\n",
      "14 8.947147e-08 [0.99992007]\n",
      "15 2.5412067e-08 [0.9999574]\n",
      "16 7.2281416e-09 [0.9999773]\n",
      "17 2.0453292e-09 [0.9999879]\n",
      "18 5.8014393e-10 [0.99999356]\n",
      "19 1.698055e-10 [0.99999654]\n",
      "20 4.7140958e-11 [0.99999815]\n"
     ]
    }
   ],
   "source": [
    "sess = tf.Session()\n",
    "sess.run(tf.global_variables_initializer())\n",
    "for step in range(21):\n",
    "    sess.run(update, feed_dict={X: x_data, Y: y_data})\n",
    "    print(step, sess.run(cost, feed_dict={X: x_data, Y: y_data}), sess.run(W))"
   ]
  },
  {
   "cell_type": "code",
   "execution_count": null,
   "metadata": {},
   "outputs": [],
   "source": []
  }
 ],
 "metadata": {
  "kernelspec": {
   "display_name": "Python 3",
   "language": "python",
   "name": "python3"
  },
  "language_info": {
   "codemirror_mode": {
    "name": "ipython",
    "version": 3
   },
   "file_extension": ".py",
   "mimetype": "text/x-python",
   "name": "python",
   "nbconvert_exporter": "python",
   "pygments_lexer": "ipython3",
   "version": "3.7.4"
  }
 },
 "nbformat": 4,
 "nbformat_minor": 2
}
